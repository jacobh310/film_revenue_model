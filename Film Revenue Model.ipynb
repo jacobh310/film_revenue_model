{
 "cells": [
  {
   "cell_type": "code",
   "execution_count": 1,
   "metadata": {},
   "outputs": [],
   "source": [
    "import numpy as np\n",
    "import pandas as pd \n",
    "from datetime import datetime\n",
    "from sklearn.preprocessing import MultiLabelBinarizer\n",
    "import warnings\n",
    "warnings.filterwarnings('ignore')"
   ]
  },
  {
   "cell_type": "markdown",
   "metadata": {},
   "source": [
    "## Data Cleaning "
   ]
  },
  {
   "cell_type": "code",
   "execution_count": 2,
   "metadata": {},
   "outputs": [],
   "source": [
    "df = pd.read_csv('wiki_data.csv')\n",
    "df=df[df.columns[1:]]\n",
    "nan_values = df[df.columns[:26]].isna().sum().sort_values()\n",
    "columns_keeping = nan_values[nan_values<6000].index.tolist()\n",
    "df = df[columns_keeping +['rsp']]\n",
    "\n",
    "df['Based on'] = df['Based on'].apply(lambda x: 0 if pd.isna(x) else 1)\n",
    "df['rsp'] = df['rsp'].apply(lambda x: 0 if pd.isna(x) else 1)"
   ]
  },
  {
   "cell_type": "code",
   "execution_count": 3,
   "metadata": {},
   "outputs": [
    {
     "name": "stdout",
     "output_type": "stream",
     "text": [
      "Based on\n",
      "rsp\n"
     ]
    }
   ],
   "source": [
    "for col in df.columns[1:].drop('Genres'):\n",
    "    try:\n",
    "        df[col] = df[col].str[3:-3]\n",
    "    except:\n",
    "        print(col)\n",
    "        continue\n",
    "        "
   ]
  },
  {
   "cell_type": "code",
   "execution_count": 4,
   "metadata": {},
   "outputs": [],
   "source": [
    "df['Running time'] = df['Running time'].str.extract(r'(\\d+)')\n",
    "df['Running time'] = pd.to_numeric(df['Running time'])\n",
    "\n",
    "## making all these columns into list becasue they have mulitple names and will make creating dummy variables for each\n",
    "## later in the cleaning process\n",
    "df['Directed by'] = df['Directed by'].str.split(',')\n",
    "df['Starring'] = df['Starring'].str.split(',')\n",
    "df['Produced by'] = df['Produced by'].str.split(',')\n",
    "df['Screenplay by'] = df['Screenplay by'].str.split(',')\n",
    "df['Edited by'] = df['Edited by'].str.split(',')\n",
    "df['Cinematography'] = df['Cinematography'].str.split(',')\n",
    "df['Written by'] = df['Written by'].str.split(',')\n",
    "df['Music by'] = df['Music by'].str.split(',')\n",
    "df['Productioncompanies '] = df['Productioncompanies '].str.split(',')\n",
    "df['Distributed by'] = df['Distributed by'].str.split(',')\n",
    "df['Productioncompany '] = df['Productioncompany '].str.split(',')"
   ]
  },
  {
   "cell_type": "code",
   "execution_count": 5,
   "metadata": {},
   "outputs": [],
   "source": [
    "df['Release date'] = df['Release date'].str.split('(') \n",
    "df['Release date length'] = df['Release date'].apply(lambda x:len(x) if type(x) == list else x)\n",
    "df['Release date'] =  df['Release date'][df['Release date length']!=10]"
   ]
  },
  {
   "cell_type": "code",
   "execution_count": 6,
   "metadata": {},
   "outputs": [],
   "source": [
    " def clean_release(row):\n",
    "        if type(row)==list:\n",
    "            if len(row)==1:\n",
    "                return row[0]\n",
    "            else:\n",
    "                return row[1][:-1]\n",
    "        else:\n",
    "            return row\n",
    "            \n",
    "df['Release date']=df['Release date'].apply(clean_release).str.split(')').str[0]"
   ]
  },
  {
   "cell_type": "code",
   "execution_count": 7,
   "metadata": {},
   "outputs": [],
   "source": [
    "def fix_dates (row):\n",
    "    if pd.isna(row):\n",
    "        return row\n",
    "    else:\n",
    "        try : \n",
    "            return datetime.strptime(row, \"%Y-%m-%d\")\n",
    "        except:\n",
    "            try:\n",
    "                return datetime.strptime(row, \"%B %d, %Y\")\n",
    "            except:\n",
    "                return row\n",
    "    \n",
    "\n",
    "df['Release date'] = df['Release date'].apply(fix_dates)\n",
    "df['Release date'] = df['Release date'].apply(lambda x: x if type(x) == datetime else np.nan)"
   ]
  },
  {
   "cell_type": "code",
   "execution_count": 8,
   "metadata": {},
   "outputs": [],
   "source": [
    "import re \n",
    "df = df[df['Box office'].str.contains('$', na=False, regex=False)]  # remove any non dollar currency\n",
    "df =df[~df['Box office'].str.contains('admission',na=False,regex=False)]#removes the 5 rows with admission in the box office col\n",
    "\n",
    "def clean_box(row):\n",
    "    box = row[1:]\n",
    "    box =box.replace('$','')\n",
    "    box = re.split(\" |\\(|\\[\", box)\n",
    "    box = box[0].split('\\\\')[0]\n",
    "    \n",
    "    if bool(re.match(r\".*million.*\", row)):\n",
    "        try: return float(box)*1000000\n",
    "        except: return np.nan\n",
    "    elif bool(re.match(r\".*billion.*\", row)):\n",
    "        try: return float(box)*1000000000\n",
    "        except: return np.nan  \n",
    "        \n",
    "    else: \n",
    "        try: return float(box.replace(',',''))\n",
    "        except: return np.nan\n",
    "    \n",
    "    \n",
    "\n",
    "df['Box office'] = df['Box office'].apply(clean_box)"
   ]
  },
  {
   "cell_type": "code",
   "execution_count": 9,
   "metadata": {},
   "outputs": [],
   "source": [
    "df['million'] = df['Budget'].str.contains('millio',na=False,regex=False)\n",
    "df['Budget']= df['Budget'].apply(lambda x: x if '$' in str(x) else 'Unknown')\n",
    "df['Budget'] = df['Budget'].str[1:].apply(lambda x: re.split(' |\\[', str(x))).str[0].str.replace(',','').str.split('\\\\').str[0]\n",
    "\n",
    "def clean_budget(x):\n",
    "    if x == 'Unknown':\n",
    "        return np.nan\n",
    "    if '–' in x:\n",
    "        try: return (float(x.replace(',','').split('–')[0])+float(x.replace(',','').split('–')[1]))/2\n",
    "        except: return np.nan\n",
    "    else:\n",
    "        try: return float(x)\n",
    "        except: return np.nan\n",
    "\n",
    "\n",
    "df['Budget'] = df['Budget'].apply(clean_budget)"
   ]
  },
  {
   "cell_type": "code",
   "execution_count": 10,
   "metadata": {},
   "outputs": [],
   "source": [
    "def million(x):\n",
    "    budget = x['Budget']\n",
    "    if x['million'] == True:\n",
    "        return budget*1000000\n",
    "    else:\n",
    "        return budget\n",
    "df['Budget'] = df.apply(million,axis=1)\n",
    "df = df.drop(columns=['Release date length','million'])\n",
    "budget_drop = df[df['Budget']>500000000].index\n",
    "df = df.drop(index=budget_drop)"
   ]
  },
  {
   "cell_type": "code",
   "execution_count": 11,
   "metadata": {
    "scrolled": false
   },
   "outputs": [],
   "source": [
    "def clean_names(row):\n",
    "    row_list = []\n",
    "    if type(row) == list:\n",
    "        for word in row:\n",
    "            word = word.replace(\"'\",'')\n",
    "            word = word.replace('\"','')\n",
    "            word = word.strip()\n",
    "            if ']' in word:\n",
    "                word = word[:-3]\n",
    "            if len(word) <40:\n",
    "                row_list.append(word)\n",
    "        return row_list\n",
    "    else: return np.nan\n",
    "    \n",
    "df['Starring'] = df['Starring'].apply(clean_names)\n",
    "df['Produced by'] = df['Produced by'].apply(clean_names)\n",
    "df['Edited by'] = df['Edited by'].apply(clean_names)\n",
    "df['Cinematography'] = df['Cinematography'].apply(clean_names)\n",
    "df['Directed by'] = df['Directed by'].apply(clean_names)\n",
    "df['Written by'] = df['Written by'].apply(clean_names)\n",
    "df['Productioncompanies '] = df['Productioncompanies '].apply(clean_names)\n",
    "df['Music by'] = df['Music by'].apply(clean_names)\n",
    "df['Screenplay by'] = df['Screenplay by'].apply(clean_names)\n",
    "df['Distributed by'] = df['Distributed by'].apply(clean_names)\n",
    "df['Productioncompany '] = df['Productioncompany '].apply(clean_names)"
   ]
  },
  {
   "cell_type": "code",
   "execution_count": 12,
   "metadata": {},
   "outputs": [],
   "source": [
    "def strip_genres(row):\n",
    "    if type(row) == list:\n",
    "        return [x.strip().lower() for x in row]\n",
    "    else:\n",
    "        return np.nan\n",
    "df['Genres']= df['Genres'].apply(lambda x: x if len(x)>2 else np.nan).str[1:-1]\n",
    "df['Genres']= df['Genres'].str.replace(\"'\",'').str.replace('film','').str.split(',')\n",
    "df['Genres'] = df['Genres'].apply(strip_genres)"
   ]
  },
  {
   "cell_type": "markdown",
   "metadata": {},
   "source": [
    "### Merge productioncompanies and productioncompany columns "
   ]
  },
  {
   "cell_type": "code",
   "execution_count": 13,
   "metadata": {},
   "outputs": [],
   "source": [
    "def production(x):\n",
    "    comp = x['Productioncompany ']\n",
    "    comps = x ['Productioncompanies ']\n",
    "    if type(comp) == list and type(comps) != list:\n",
    "        return comp\n",
    "    elif type(comps) == list and type(comp) != list:\n",
    "        return comps\n",
    "    else:\n",
    "        return comp+comps\n",
    "    \n",
    "df['Production companies']= df.apply(production, axis =1)\n",
    "df['Production companies'] = df['Production companies'].apply(clean_names)\n",
    "df = df.drop(columns = ['Productioncompanies ', 'Productioncompany '])"
   ]
  },
  {
   "cell_type": "markdown",
   "metadata": {},
   "source": [
    "### Feature Engineering: Category reduction\n",
    "- any date point that does not appear more than a certain threshhold will be lumped into the the 'other catrogory'\n",
    "- due due varying amounts of granularity within the columns, the threshold will vary by column and will be tested experimentally \n",
    "---\n",
    "- I am making a helper function that will count the items in the columns with list objects\n",
    "- Going to test with threshold 1  \n",
    "\n",
    "**finish explaining**"
   ]
  },
  {
   "cell_type": "code",
   "execution_count": 14,
   "metadata": {},
   "outputs": [],
   "source": [
    "df['Country']=df['Country'].str.split('[').str[0].apply(lambda x:'other' if 'United States' not in str(x) else 'United States')\n",
    "df['Language'] = df['Language'].str.split('[').str[0]\n",
    "lang_counts = df['Language'].value_counts()\n",
    "drop_langs = lang_counts[lang_counts<6].index\n",
    "df['Language']= df['Language'].apply(lambda x: 'other' if x in drop_langs else x)"
   ]
  },
  {
   "cell_type": "code",
   "execution_count": 15,
   "metadata": {},
   "outputs": [],
   "source": [
    "def list_counts(col,df):\n",
    "    names = {}\n",
    "    for i in df[col]:\n",
    "        if type(i) == list:\n",
    "            for j in i:\n",
    "                if j not in names:\n",
    "                    names[j] = 1\n",
    "                else:\n",
    "                    names[j] +=1\n",
    "    count_df = pd.DataFrame.from_dict(names, orient='index', columns = ['Count'])\n",
    "    count_df = count_df.sort_values(by='Count', ascending=False)\n",
    "    return count_df\n",
    "\n",
    "upper = list_counts('Genres',df)[list_counts('Genres',df)>=16]\n",
    "upper.dropna(inplace=True)\n",
    "keep_genres = upper.index\n"
   ]
  },
  {
   "cell_type": "code",
   "execution_count": 16,
   "metadata": {},
   "outputs": [],
   "source": [
    "def drop_genres(row):\n",
    "    if type(row) == list:\n",
    "        genres = []\n",
    "        for i in row:\n",
    "            if i in keep_genres:\n",
    "                genres.append(i)\n",
    "            else:\n",
    "                genres.append('other')\n",
    "        return genres\n",
    "    else:\n",
    "        return np.nan\n",
    "    \n",
    "df['Genres']=df['Genres'].apply(drop_genres)"
   ]
  },
  {
   "cell_type": "markdown",
   "metadata": {},
   "source": [
    "### Dummy variables for list objects in rows"
   ]
  },
  {
   "cell_type": "code",
   "execution_count": 17,
   "metadata": {},
   "outputs": [],
   "source": [
    "# df = pd.read_csv('cleaned_data.csv')\n",
    "# df['Release date']=pd.to_datetime(df['Release date'])\n",
    "df = df.reset_index().drop(columns='index')\n",
    "\n",
    "def make_dummies(df,col):\n",
    "    \n",
    "    dummy_df = df.copy()\n",
    "    mlb = MultiLabelBinarizer()\n",
    "    starring_nan = dummy_df[dummy_df[col].isna()].drop(columns=col)\n",
    "    dummy_df = dummy_df[~dummy_df[col].isna()]\n",
    "\n",
    "    dummy_df = dummy_df.join(pd.DataFrame(mlb.fit_transform(dummy_df.pop(col)),\n",
    "                              columns=mlb.classes_,\n",
    "                              index=dummy_df.index))\n",
    "\n",
    "    combined = pd.concat([dummy_df, starring_nan], axis=0)\n",
    "    dummies = combined.iloc[:,df.shape[1]-1:].fillna(0)\n",
    "    \n",
    "#     new = combined.iloc[:,:df.shape[1] -1]\n",
    "#     new_df = pd.concat([new, dummies],axis=1)\n",
    "    \n",
    "    return dummies"
   ]
  },
  {
   "cell_type": "code",
   "execution_count": 18,
   "metadata": {},
   "outputs": [],
   "source": [
    "# cols = df.select_dtypes('object').columns.drop(['Language','Country','Title'])\n",
    "# old_df = df.copy()\n",
    "# for col in cols:\n",
    "#     x = make_dummies(old_df, col)\n",
    "#     df = pd.concat([df,x], axis = 1)"
   ]
  },
  {
   "cell_type": "code",
   "execution_count": 19,
   "metadata": {},
   "outputs": [],
   "source": [
    "cols = df.select_dtypes('object').columns.drop(['Language','Country','Title'])\n",
    "old_df = df.copy()\n",
    "for col in cols:\n",
    "    x = make_dummies(old_df, col)\n",
    "    x.columns = [col+'_'+ i for i in x.columns]\n",
    "    df = pd.concat([df,x], axis = 1)"
   ]
  },
  {
   "cell_type": "code",
   "execution_count": 20,
   "metadata": {
    "scrolled": true
   },
   "outputs": [
    {
     "data": {
      "text/html": [
       "<div>\n",
       "<style scoped>\n",
       "    .dataframe tbody tr th:only-of-type {\n",
       "        vertical-align: middle;\n",
       "    }\n",
       "\n",
       "    .dataframe tbody tr th {\n",
       "        vertical-align: top;\n",
       "    }\n",
       "\n",
       "    .dataframe thead th {\n",
       "        text-align: right;\n",
       "    }\n",
       "</style>\n",
       "<table border=\"1\" class=\"dataframe\">\n",
       "  <thead>\n",
       "    <tr style=\"text-align: right;\">\n",
       "      <th></th>\n",
       "      <th>Title</th>\n",
       "      <th>Running time</th>\n",
       "      <th>Release date</th>\n",
       "      <th>Language</th>\n",
       "      <th>Box office</th>\n",
       "      <th>Country</th>\n",
       "      <th>Budget</th>\n",
       "      <th>Based on</th>\n",
       "      <th>rsp</th>\n",
       "      <th>Genres_3d</th>\n",
       "      <th>...</th>\n",
       "      <th>Production companies_de Passe Entertainment</th>\n",
       "      <th>Production companies_di Bonaventura Pictures</th>\n",
       "      <th>Production companies_eOne</th>\n",
       "      <th>Production companies_iDeal Partners</th>\n",
       "      <th>Production companies_inc.</th>\n",
       "      <th>Production companies_inc.Leeds / Ben-Ami Productions</th>\n",
       "      <th>Production companies_nWave Pictures</th>\n",
       "      <th>Production companies_uFilm</th>\n",
       "      <th>Production companies_uFund</th>\n",
       "      <th>Production companies_uMedia</th>\n",
       "    </tr>\n",
       "  </thead>\n",
       "  <tbody>\n",
       "    <tr>\n",
       "      <th>0</th>\n",
       "      <td>The Adventures of Ford Fairlane</td>\n",
       "      <td>102.0</td>\n",
       "      <td>1990-07-11</td>\n",
       "      <td>English</td>\n",
       "      <td>21400000.0</td>\n",
       "      <td>United States</td>\n",
       "      <td>20000000.0</td>\n",
       "      <td>1</td>\n",
       "      <td>0</td>\n",
       "      <td>0.0</td>\n",
       "      <td>...</td>\n",
       "      <td>0.0</td>\n",
       "      <td>0.0</td>\n",
       "      <td>0.0</td>\n",
       "      <td>0.0</td>\n",
       "      <td>0.0</td>\n",
       "      <td>0.0</td>\n",
       "      <td>0.0</td>\n",
       "      <td>0.0</td>\n",
       "      <td>0.0</td>\n",
       "      <td>0.0</td>\n",
       "    </tr>\n",
       "    <tr>\n",
       "      <th>1</th>\n",
       "      <td>After Dark, My Sweet</td>\n",
       "      <td>114.0</td>\n",
       "      <td>1990-05-17</td>\n",
       "      <td>English</td>\n",
       "      <td>2700000.0</td>\n",
       "      <td>United States</td>\n",
       "      <td>6000000.0</td>\n",
       "      <td>1</td>\n",
       "      <td>0</td>\n",
       "      <td>0.0</td>\n",
       "      <td>...</td>\n",
       "      <td>0.0</td>\n",
       "      <td>0.0</td>\n",
       "      <td>0.0</td>\n",
       "      <td>0.0</td>\n",
       "      <td>0.0</td>\n",
       "      <td>0.0</td>\n",
       "      <td>0.0</td>\n",
       "      <td>0.0</td>\n",
       "      <td>0.0</td>\n",
       "      <td>0.0</td>\n",
       "    </tr>\n",
       "    <tr>\n",
       "      <th>2</th>\n",
       "      <td>Air America</td>\n",
       "      <td>113.0</td>\n",
       "      <td>1990-08-10</td>\n",
       "      <td>English</td>\n",
       "      <td>57700000.0</td>\n",
       "      <td>United States</td>\n",
       "      <td>32500000.0</td>\n",
       "      <td>1</td>\n",
       "      <td>0</td>\n",
       "      <td>0.0</td>\n",
       "      <td>...</td>\n",
       "      <td>0.0</td>\n",
       "      <td>0.0</td>\n",
       "      <td>0.0</td>\n",
       "      <td>0.0</td>\n",
       "      <td>0.0</td>\n",
       "      <td>0.0</td>\n",
       "      <td>0.0</td>\n",
       "      <td>0.0</td>\n",
       "      <td>0.0</td>\n",
       "      <td>0.0</td>\n",
       "    </tr>\n",
       "    <tr>\n",
       "      <th>3</th>\n",
       "      <td>Alice</td>\n",
       "      <td>106.0</td>\n",
       "      <td>1990-12-25</td>\n",
       "      <td>English</td>\n",
       "      <td>7331647.0</td>\n",
       "      <td>United States</td>\n",
       "      <td>12000000.0</td>\n",
       "      <td>0</td>\n",
       "      <td>0</td>\n",
       "      <td>0.0</td>\n",
       "      <td>...</td>\n",
       "      <td>0.0</td>\n",
       "      <td>0.0</td>\n",
       "      <td>0.0</td>\n",
       "      <td>0.0</td>\n",
       "      <td>0.0</td>\n",
       "      <td>0.0</td>\n",
       "      <td>0.0</td>\n",
       "      <td>0.0</td>\n",
       "      <td>0.0</td>\n",
       "      <td>0.0</td>\n",
       "    </tr>\n",
       "    <tr>\n",
       "      <th>4</th>\n",
       "      <td>Almost an Angel</td>\n",
       "      <td>95.0</td>\n",
       "      <td>1990-12-19</td>\n",
       "      <td>English</td>\n",
       "      <td>6939946.0</td>\n",
       "      <td>United States</td>\n",
       "      <td>25000000.0</td>\n",
       "      <td>0</td>\n",
       "      <td>0</td>\n",
       "      <td>0.0</td>\n",
       "      <td>...</td>\n",
       "      <td>0.0</td>\n",
       "      <td>0.0</td>\n",
       "      <td>0.0</td>\n",
       "      <td>0.0</td>\n",
       "      <td>0.0</td>\n",
       "      <td>0.0</td>\n",
       "      <td>0.0</td>\n",
       "      <td>0.0</td>\n",
       "      <td>0.0</td>\n",
       "      <td>0.0</td>\n",
       "    </tr>\n",
       "  </tbody>\n",
       "</table>\n",
       "<p>5 rows × 32695 columns</p>\n",
       "</div>"
      ],
      "text/plain": [
       "                             Title  Running time Release date Language  \\\n",
       "0  The Adventures of Ford Fairlane         102.0   1990-07-11  English   \n",
       "1             After Dark, My Sweet         114.0   1990-05-17  English   \n",
       "2                      Air America         113.0   1990-08-10  English   \n",
       "3                            Alice         106.0   1990-12-25  English   \n",
       "4                  Almost an Angel          95.0   1990-12-19  English   \n",
       "\n",
       "   Box office        Country      Budget  Based on  rsp  Genres_3d  ...  \\\n",
       "0  21400000.0  United States  20000000.0         1    0        0.0  ...   \n",
       "1   2700000.0  United States   6000000.0         1    0        0.0  ...   \n",
       "2  57700000.0  United States  32500000.0         1    0        0.0  ...   \n",
       "3   7331647.0  United States  12000000.0         0    0        0.0  ...   \n",
       "4   6939946.0  United States  25000000.0         0    0        0.0  ...   \n",
       "\n",
       "   Production companies_de Passe Entertainment  \\\n",
       "0                                          0.0   \n",
       "1                                          0.0   \n",
       "2                                          0.0   \n",
       "3                                          0.0   \n",
       "4                                          0.0   \n",
       "\n",
       "   Production companies_di Bonaventura Pictures  Production companies_eOne  \\\n",
       "0                                           0.0                        0.0   \n",
       "1                                           0.0                        0.0   \n",
       "2                                           0.0                        0.0   \n",
       "3                                           0.0                        0.0   \n",
       "4                                           0.0                        0.0   \n",
       "\n",
       "   Production companies_iDeal Partners  Production companies_inc.  \\\n",
       "0                                  0.0                        0.0   \n",
       "1                                  0.0                        0.0   \n",
       "2                                  0.0                        0.0   \n",
       "3                                  0.0                        0.0   \n",
       "4                                  0.0                        0.0   \n",
       "\n",
       "   Production companies_inc.Leeds / Ben-Ami Productions  \\\n",
       "0                                                0.0      \n",
       "1                                                0.0      \n",
       "2                                                0.0      \n",
       "3                                                0.0      \n",
       "4                                                0.0      \n",
       "\n",
       "   Production companies_nWave Pictures  Production companies_uFilm  \\\n",
       "0                                  0.0                         0.0   \n",
       "1                                  0.0                         0.0   \n",
       "2                                  0.0                         0.0   \n",
       "3                                  0.0                         0.0   \n",
       "4                                  0.0                         0.0   \n",
       "\n",
       "   Production companies_uFund  Production companies_uMedia  \n",
       "0                         0.0                          0.0  \n",
       "1                         0.0                          0.0  \n",
       "2                         0.0                          0.0  \n",
       "3                         0.0                          0.0  \n",
       "4                         0.0                          0.0  \n",
       "\n",
       "[5 rows x 32695 columns]"
      ]
     },
     "execution_count": 20,
     "metadata": {},
     "output_type": "execute_result"
    }
   ],
   "source": [
    "df_out = df.drop(columns=cols)\n",
    "df_out.head()"
   ]
  },
  {
   "cell_type": "code",
   "execution_count": 21,
   "metadata": {
    "scrolled": true
   },
   "outputs": [
    {
     "data": {
      "text/plain": [
       "(5903, 32695)"
      ]
     },
     "execution_count": 21,
     "metadata": {},
     "output_type": "execute_result"
    }
   ],
   "source": [
    "df_out.shape"
   ]
  },
  {
   "cell_type": "markdown",
   "metadata": {},
   "source": [
    "### Feature engineering: \n",
    "- Extracting day, month, year, day of the week, is weekend from  Release date column"
   ]
  },
  {
   "cell_type": "code",
   "execution_count": null,
   "metadata": {},
   "outputs": [],
   "source": [
    "df_out['Year'] = df_out['Release date'].dt.year\n",
    "df_out['Month'] = df_out['Release date'].dt.month\n",
    "df_out['Day'] = df_out['Release date'].dt.day\n",
    "df_out['Day of week'] = df_out['Release date'].apply(lambda x: x.weekday())\n",
    "df_out['is_weekend'] = df_out['Day of week'].apply(lambda x: 1 if x>=4 else 0)\n",
    "\n",
    "\n",
    "df_out = df_out[df_out['Year']>=1990]    # removing any movies that are before 1990\n",
    "df_out = df_out[df_out['Budget'] != 0] # removes two 0 budget values. Probably due to some mistake will parsing\n",
    "# df_out['ROI'] = df_out['Box office']/df_out['Budget']"
   ]
  },
  {
   "cell_type": "markdown",
   "metadata": {},
   "source": [
    "## Data Exploration\n",
    "- going to seperate the into training and test data. I am only going to perform the data analysis training set to reduce date snooping bias\n",
    "\n",
    "### 1) Numeric Data \n",
    "- histograms \n",
    "- grpahs\n",
    "- corrplots \n"
   ]
  },
  {
   "cell_type": "code",
   "execution_count": null,
   "metadata": {},
   "outputs": [],
   "source": [
    "import matplotlib.pyplot as plt \n",
    "import seaborn as sns"
   ]
  },
  {
   "cell_type": "code",
   "execution_count": null,
   "metadata": {
    "scrolled": true
   },
   "outputs": [],
   "source": [
    "df_out.iloc[:,:9].info()"
   ]
  },
  {
   "cell_type": "code",
   "execution_count": null,
   "metadata": {},
   "outputs": [],
   "source": [
    "df_out.iloc[:,:9].isna().sum()"
   ]
  },
  {
   "cell_type": "code",
   "execution_count": null,
   "metadata": {},
   "outputs": [],
   "source": [
    "def split_train_test(data, test_ratio):\n",
    "    np.random.seed(0)\n",
    "    shuffled_indices = np.random.permutation(len(data))\n",
    "    test_set_size = int(len(data) * test_ratio)\n",
    "    test_indices = shuffled_indices[:test_set_size]\n",
    "    train_indices = shuffled_indices[test_set_size:]\n",
    "    return data.iloc[train_indices], data.iloc[test_indices]\n",
    "train_df, test_df = split_train_test(df_out, 0.2)\n",
    "\n",
    "# oreiller machine learning book"
   ]
  },
  {
   "cell_type": "code",
   "execution_count": null,
   "metadata": {
    "scrolled": true
   },
   "outputs": [],
   "source": [
    "numeric_cols = ['Running time', 'Box office', 'Budget']\n",
    "df_num = train_df[numeric_cols]\n",
    "df_num.describe()"
   ]
  },
  {
   "cell_type": "code",
   "execution_count": null,
   "metadata": {
    "scrolled": false
   },
   "outputs": [],
   "source": [
    "df_num.hist(bins=50, figsize=(10,7))\n",
    "plt.show()"
   ]
  },
  {
   "cell_type": "code",
   "execution_count": null,
   "metadata": {
    "scrolled": false
   },
   "outputs": [],
   "source": [
    "fig, axes = plt.subplots(nrows=3,ncols=1, figsize=(9,17))\n",
    "sns.boxplot(x='Running time', data=df_num, palette='Set3', ax=axes[0])\n",
    "sns.boxplot(x='Budget', data=df_num, palette='Set3', ax=axes[1])\n",
    "sns.boxplot(x='Box office', data=df_num, palette='Set3', ax=axes[2])\n",
    "plt.show()"
   ]
  },
  {
   "cell_type": "markdown",
   "metadata": {},
   "source": [
    "- Running time has the least amount of outliers and the most normal distribution \n",
    "- Box office and Budget distributions are not normal and contain a imbalance amount of outliers \n",
    "    - consider using a logarithmic scaling or outlier removal"
   ]
  },
  {
   "cell_type": "markdown",
   "metadata": {},
   "source": [
    "### Scatter plots and Correlations "
   ]
  },
  {
   "cell_type": "code",
   "execution_count": null,
   "metadata": {
    "scrolled": false
   },
   "outputs": [],
   "source": [
    "from sklearn.preprocessing import MinMaxScaler\n",
    "pd.plotting.scatter_matrix(df_num,diagonal='kde', figsize=(14,12))\n",
    "plt.show()"
   ]
  },
  {
   "cell_type": "code",
   "execution_count": null,
   "metadata": {
    "scrolled": true
   },
   "outputs": [],
   "source": [
    "print(df_num.corr())\n",
    "sns.heatmap(df_num.corr())\n",
    "plt.show()"
   ]
  },
  {
   "cell_type": "markdown",
   "metadata": {},
   "source": [
    "### Observations\n",
    "- budget has the highest correlation to box office sales which is logical. Compnaies that invest more money into a movie expect to make more money. \n",
    "- Movies have higher budgets for good reason. Great starting cast and crew cost more than a relatively unknown cast and/or crew. Expensive set pieces, CGI, special effects, time filming are all factors that affect budget.\n",
    "- Another interesting target variable could be return on investment which would be more usefull to production companies with smaller budgets \n"
   ]
  },
  {
   "cell_type": "markdown",
   "metadata": {},
   "source": [
    "## Categorical Data\n",
    "- bar plots \n",
    "- pivot tables \n",
    "---\n",
    "### Counts"
   ]
  },
  {
   "cell_type": "code",
   "execution_count": null,
   "metadata": {
    "scrolled": true
   },
   "outputs": [],
   "source": [
    "cats = ['Language','Country','Year','Month','Day','Day of week','Based on', 'rsp']\n",
    "fig, axes = plt.subplots(nrows=4, ncols=2, figsize = (20,35))\n",
    "\n",
    "for i, ax in enumerate(axes.flatten()):\n",
    "    sns.countplot(train_df[cats[i]], ax = ax )\n",
    "    ax.set_title(cats[i] + ' counts', fontsize=20)\n",
    "    ax.set_xlabel(cats[i],fontsize=16)\n",
    "    ax.set_ylabel('Count',fontsize=16)\n",
    "    ax.set_xticklabels(ax.get_xticklabels(), rotation=90)\n",
    "plt.tight_layout()\n",
    "plt.show()"
   ]
  },
  {
   "cell_type": "markdown",
   "metadata": {},
   "source": [
    "### Observations:\n",
    "- 4 meaning Friday has the most amount of movies release\n",
    "- September has the most amount of movies released out of any months \n",
    "- mostly all movies are in english\n",
    "- movies per year seem to be consistent \n",
    "---\n",
    "### Means"
   ]
  },
  {
   "cell_type": "code",
   "execution_count": null,
   "metadata": {},
   "outputs": [],
   "source": [
    "fig, axes = plt.subplots(nrows=4, ncols=2, figsize = (20,35))\n",
    "\n",
    "for i, ax in enumerate(axes.flatten()):\n",
    "    sns.barplot(x=cats[i],y='Box office', data = train_df, ci=None, ax=ax)\n",
    "    ax.set_title(cats[i] + ' Box Office Averages', fontsize=20)\n",
    "    ax.set_xlabel(cats[i],fontsize=16)\n",
    "    ax.set_ylabel('Average',fontsize=16)\n",
    "    ax.set_xticklabels(ax.get_xticklabels(), rotation=90)\n",
    "plt.tight_layout()\n",
    "plt.show()"
   ]
  },
  {
   "cell_type": "markdown",
   "metadata": {},
   "source": [
    "### Observations \n",
    "- Hindi had the movies witht he highest box office. India is a country with a large population.\n",
    "- Even though Friday has the most releases it has the lowest average box office which makes sense becasue of all the competetion. \n",
    "- Movies based on a book or a true story have a higher box office \n",
    "- June hase the highest box office \n",
    "- The year chart shoes movies with box office sales that are increasing which is most likely attributed to inflation.\n",
    "- The two bar charts how the closely budget and box office are "
   ]
  },
  {
   "cell_type": "code",
   "execution_count": null,
   "metadata": {},
   "outputs": [],
   "source": [
    "fig, axes = plt.subplots(nrows=1, ncols=2, figsize=(17,5)) \n",
    "sns.barplot(train_df['Year'],train_df['Budget'],ax=axes[0], ci=None)\n",
    "axes[0].set_title('Yearly Budget Averages')\n",
    "axes[0].set_xticklabels(axes[0].get_xticklabels(), rotation=90)\n",
    "\n",
    "sns.barplot(train_df['Year'],train_df['Box office'],ax=axes[1], ci=None)\n",
    "axes[1].set_title('Yearly Box Office Averages')\n",
    "axes[1].set_xticklabels(axes[1].get_xticklabels(), rotation=90)\n",
    "plt.show()"
   ]
  },
  {
   "cell_type": "markdown",
   "metadata": {},
   "source": [
    "Before we analzye the other columns I am going to clean the data a little bit more. "
   ]
  },
  {
   "cell_type": "code",
   "execution_count": null,
   "metadata": {},
   "outputs": [],
   "source": [
    "roles = df.select_dtypes('object').columns.drop(['Language','Country','Title'])"
   ]
  },
  {
   "cell_type": "code",
   "execution_count": null,
   "metadata": {
    "scrolled": true
   },
   "outputs": [],
   "source": [
    "fig, axes = plt.subplots(nrows=4, ncols=3, figsize = (24,30))\n",
    "feature='Box office'\n",
    "\n",
    "\n",
    "for j, ax in enumerate(axes.flatten()):\n",
    "    \n",
    "    if j<11:\n",
    "        top_ = [roles[j]+'_'+ i for i in list_counts(roles[j],old_df)[:15].index]\n",
    "        means = [train_df[train_df[i]==1][feature].mean() for i in top_]\n",
    "        xlabels = list_counts(roles[j],old_df)[:15].index\n",
    "\n",
    "        sns.barplot(x=xlabels,y= means, data = train_df, ax =ax, ci=None)\n",
    "        ax.set_title(roles[j] + ' Box Office Averages', fontsize=20)\n",
    "        ax.set_xlabel(roles[j],fontsize=16)\n",
    "        ax.set_ylabel('Average',fontsize=16)\n",
    "        ax.set_xticklabels(ax.get_xticklabels(), rotation=90)\n",
    "fig.delaxes(axes[3,2])\n",
    "plt.tight_layout()\n",
    "plt.show()"
   ]
  },
  {
   "cell_type": "markdown",
   "metadata": {},
   "source": [
    "### Observations\n",
    "- Disney an Speilberg had noticably higher box office than their competitiors "
   ]
  },
  {
   "cell_type": "code",
   "execution_count": null,
   "metadata": {},
   "outputs": [],
   "source": []
  },
  {
   "cell_type": "code",
   "execution_count": null,
   "metadata": {},
   "outputs": [],
   "source": []
  }
 ],
 "metadata": {
  "kernelspec": {
   "display_name": "Python 3",
   "language": "python",
   "name": "python3"
  },
  "language_info": {
   "codemirror_mode": {
    "name": "ipython",
    "version": 3
   },
   "file_extension": ".py",
   "mimetype": "text/x-python",
   "name": "python",
   "nbconvert_exporter": "python",
   "pygments_lexer": "ipython3",
   "version": "3.8.5"
  }
 },
 "nbformat": 4,
 "nbformat_minor": 4
}

{
 "cells": [
  {
   "cell_type": "code",
   "execution_count": 36,
   "metadata": {},
   "outputs": [],
   "source": [
    "import numpy as np\n",
    "import pandas as pd \n",
    "from datetime import datetime\n"
   ]
  },
  {
   "cell_type": "code",
   "execution_count": 37,
   "metadata": {},
   "outputs": [
    {
     "name": "stderr",
     "output_type": "stream",
     "text": [
      "c:\\users\\jacob\\appdata\\local\\programs\\python\\python38\\lib\\site-packages\\IPython\\core\\interactiveshell.py:3146: DtypeWarning: Columns (36,48,68,69,71,72,75,78,82,100,107,108,109,110,111,112,113,114,115,116,117,118,119,120,121,122,123,124,125,126,127,128,129,130,131,132,134,135,136,137,138,139,140,141,145,146,147,148,149,150,151,155,158,159,165,166,167,168,169,170,171,172,173,175,176,177,178,179,180,181,182,183,184,185,186,187,188,194,195,196,200,201,202,204,205,206,207,208,209,210,211,216,217,218,219,220,221,222,223,224,225,226,227,228,229,230,231,232,233,234,235,236,237,238,239,240,241,242,243,244,245,246,247,248,249,250,251,252) have mixed types.Specify dtype option on import or set low_memory=False.\n",
      "  has_raised = await self.run_ast_nodes(code_ast.body, cell_name,\n"
     ]
    }
   ],
   "source": [
    "df = pd.read_csv('wiki_data.csv')\n",
    "df=df[df.columns[1:]]\n",
    "nan_values = df[df.columns[:26]].isna().sum().sort_values()\n",
    "columns_keeping = nan_values[nan_values<6000].index\n",
    "df = df[columns_keeping]\n",
    "df['Based on'] = df['Based on'].apply(lambda x: 0 if pd.isna(x) else 1)"
   ]
  },
  {
   "cell_type": "code",
   "execution_count": 38,
   "metadata": {},
   "outputs": [
    {
     "name": "stdout",
     "output_type": "stream",
     "text": [
      "Based on\n"
     ]
    }
   ],
   "source": [
    "for col in df.columns[1:]:\n",
    "    try:\n",
    "        df[col] = df[col].str[3:-3]\n",
    "    except:\n",
    "        print(col)\n",
    "        "
   ]
  },
  {
   "cell_type": "code",
   "execution_count": 39,
   "metadata": {},
   "outputs": [],
   "source": [
    "df['Running time'] = df['Running time'].str.extract(r'(\\d+)')\n",
    "df['Running time'] = pd.to_numeric(df['Running time'])\n",
    "df['Starring'] = df['Starring'].str.split(',')\n",
    "df['Produced by'] = df['Produced by'].str.split(',')\n",
    "df['Release date'] = df['Release date'].str.split('(') \n"
   ]
  },
  {
   "cell_type": "code",
   "execution_count": 40,
   "metadata": {},
   "outputs": [],
   "source": [
    "df['Release date length'] = df['Release date'].apply(lambda x:len(x) if type(x) == list else x)\n",
    "df['Release date'] =  df['Release date'][df['Release date length']!=10]"
   ]
  },
  {
   "cell_type": "code",
   "execution_count": 41,
   "metadata": {},
   "outputs": [],
   "source": [
    " def clean_release(row):\n",
    "        if type(row)==list:\n",
    "            if len(row)==1:\n",
    "                return row[0]\n",
    "            else:\n",
    "                return row[1][:-1]\n",
    "        else:\n",
    "            row\n",
    "            \n",
    "df['Release date']=df['Release date'].apply(clean_release).str.split(')').str[0]"
   ]
  },
  {
   "cell_type": "code",
   "execution_count": 42,
   "metadata": {},
   "outputs": [],
   "source": [
    "def fix_dates (row):\n",
    "    if pd.isna(row):\n",
    "        return row\n",
    "    else:\n",
    "        try : \n",
    "            return datetime.strptime(row, \"%Y-%m-%d\")\n",
    "        except:\n",
    "            try:\n",
    "                return datetime.strptime(row, \"%B %d, %Y\")\n",
    "            except:\n",
    "                return row\n",
    "    \n",
    "\n",
    "df['Release date'] = df['Release date'].apply(fix_dates)"
   ]
  },
  {
   "cell_type": "code",
   "execution_count": 43,
   "metadata": {},
   "outputs": [],
   "source": [
    "df['Billion'] = df['Box office'].str.contains('billio',na=False,regex=False)"
   ]
  },
  {
   "cell_type": "code",
   "execution_count": 44,
   "metadata": {},
   "outputs": [],
   "source": [
    "df['Box office length'] = df['Box office'].str.split('million').apply(lambda x:len(x) if type(x) == list else x)\n",
    "df['Box office'] = df['Box office'].str[1:]\n",
    "df['Box office'] =  df['Box office'].str.split('million')\n",
    "df = df[~((df['Box office length']==3) | (df['Box office length']==4))]"
   ]
  },
  {
   "cell_type": "code",
   "execution_count": 45,
   "metadata": {},
   "outputs": [
    {
     "data": {
      "text/plain": [
       "0           [21.4 , [3]]\n",
       "1            [2.7 , [1]]\n",
       "2              [57.7 , ]\n",
       "3         [7,331,647[3]]\n",
       "4       [6,939,946 (US)]\n",
       "              ...       \n",
       "7466       [171.6 , [8]]\n",
       "7467    [218.8 , [3][4]]\n",
       "7468       [384.9 , [5]]\n",
       "7469        [50.4 , [4]]\n",
       "7470     [364,952[1][2]]\n",
       "Name: Box office, Length: 7457, dtype: object"
      ]
     },
     "execution_count": 45,
     "metadata": {},
     "output_type": "execute_result"
    }
   ],
   "source": [
    "df['Box office']"
   ]
  },
  {
   "cell_type": "code",
   "execution_count": null,
   "metadata": {},
   "outputs": [],
   "source": [
    "# import re\n",
    "# def clean_box(row):\n",
    "#     if type(row)==list:\n",
    "#         if len(row)==1:\n",
    "#             string = re.split(' |\\[', row[0])[0]\n",
    "#             string = string.replace(',','')\n",
    "#             return   string #row[0].split('[')[0]\n",
    "#         else:\n",
    "#             if row['Billion'] == False:\n",
    "#                 try: return float(row[0])*1000000\n",
    "#                 except: return row\n",
    "#             else:\n",
    "#                 try: return float(row[0])*1000000000\n",
    "#                 except: return row\n",
    "#     else:\n",
    "#         return row"
   ]
  },
  {
   "cell_type": "code",
   "execution_count": 55,
   "metadata": {
    "scrolled": true
   },
   "outputs": [],
   "source": [
    "import re\n",
    "def clean_box(row):\n",
    "    if type(row)==list:\n",
    "        if len(row)==1:\n",
    "            string = re.split(' |\\[', row[0])[0]\n",
    "            string = string.replace(',','')\n",
    "            return   string #row[0].split('[')[0]\n",
    "        else:\n",
    "            try: return float(row[0])*1000000\n",
    "            except: return row\n",
    "    else:\n",
    "        return row\n",
    "df['Box office'] = df['Box office'].apply(clean_box)"
   ]
  },
  {
   "cell_type": "code",
   "execution_count": 56,
   "metadata": {},
   "outputs": [
    {
     "data": {
      "text/plain": [
       "0        2.14e+07\n",
       "1         2.7e+06\n",
       "2        5.77e+07\n",
       "3         7331647\n",
       "4         6939946\n",
       "          ...    \n",
       "7466    1.716e+08\n",
       "7467    2.188e+08\n",
       "7468    3.849e+08\n",
       "7469     5.04e+07\n",
       "7470       364952\n",
       "Name: Box office, Length: 7457, dtype: object"
      ]
     },
     "execution_count": 56,
     "metadata": {},
     "output_type": "execute_result"
    }
   ],
   "source": [
    "df['Box office']"
   ]
  },
  {
   "cell_type": "code",
   "execution_count": null,
   "metadata": {
    "scrolled": false
   },
   "outputs": [],
   "source": [
    "# df['Budget'].str[1:].str.split('million').str[0][:40]\n",
    "df['Budget'] = df['Budget'].str[1:].apply(lambda x: re.split(' |\\[', str(x))).str[0]"
   ]
  },
  {
   "cell_type": "code",
   "execution_count": null,
   "metadata": {},
   "outputs": [],
   "source": [
    "df['Budget']"
   ]
  },
  {
   "cell_type": "code",
   "execution_count": null,
   "metadata": {
    "scrolled": false
   },
   "outputs": [],
   "source": [
    "# df['Budget'].apply(lambda x: (float(x.replace(',','').split('–')[0])+float(x.replace(',','').split('–')[1]))/2 if '–' in x else x)\n",
    "\n",
    "def clean_budget(x):\n",
    "    if '–' in x:\n",
    "        try: return (float(x.replace(',','').split('–')[0])+float(x.replace(',','').split('–')[1]))/2 \n",
    "        except: return np.nan\n",
    "    else:\n",
    "        return x\n",
    "\n",
    "df['Budget'] = df['Budget'].apply(lambda x: clean_budget(x))"
   ]
  },
  {
   "cell_type": "code",
   "execution_count": null,
   "metadata": {},
   "outputs": [],
   "source": [
    "df.head()"
   ]
  },
  {
   "cell_type": "code",
   "execution_count": null,
   "metadata": {
    "scrolled": true
   },
   "outputs": [],
   "source": [
    "df[df['title']=='Avengers: Endgame'][]"
   ]
  },
  {
   "cell_type": "code",
   "execution_count": 12,
   "metadata": {},
   "outputs": [
    {
     "data": {
      "text/plain": [
       "Title                      0\n",
       "Running time             222\n",
       "Directed by              286\n",
       "Starring                 296\n",
       "Release date             374\n",
       "Produced by              503\n",
       "Distributed by           590\n",
       "Music by                 701\n",
       "Edited by                751\n",
       "Cinematography           758\n",
       "Language                 872\n",
       "Box office              1511\n",
       "Country                 1742\n",
       "Budget                  2320\n",
       "Written by              2836\n",
       "Productioncompanies     3396\n",
       "Screenplay by           4943\n",
       "Based on                   0\n",
       "Productioncompany       5762\n",
       "Release date length      371\n",
       "dtype: int64"
      ]
     },
     "execution_count": 12,
     "metadata": {},
     "output_type": "execute_result"
    }
   ],
   "source": [
    "df.isna().sum()"
   ]
  }
 ],
 "metadata": {
  "kernelspec": {
   "display_name": "Python 3",
   "language": "python",
   "name": "python3"
  },
  "language_info": {
   "codemirror_mode": {
    "name": "ipython",
    "version": 3
   },
   "file_extension": ".py",
   "mimetype": "text/x-python",
   "name": "python",
   "nbconvert_exporter": "python",
   "pygments_lexer": "ipython3",
   "version": "3.8.5"
  }
 },
 "nbformat": 4,
 "nbformat_minor": 4
}

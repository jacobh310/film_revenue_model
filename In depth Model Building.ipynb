{
 "cells": [
  {
   "cell_type": "code",
   "execution_count": 6,
   "metadata": {},
   "outputs": [],
   "source": [
    "import numpy as np\n",
    "import pandas as pd \n",
    "from sklearn.preprocessing import MinMaxScaler, OneHotEncoder, PowerTransformer\n",
    "from sklearn.pipeline import make_pipeline, Pipeline\n",
    "from sklearn.compose import ColumnTransformer, make_column_transformer\n",
    "from sklearn.impute import SimpleImputer , KNNImputer\n",
    "from sklearn.linear_model import LinearRegression, Lasso, Ridge, SGDRegressor\n",
    "from sklearn.ensemble import RandomForestRegressor\n",
    "from xgboost import XGBRegressor\n",
    "from sklearn.model_selection import cross_val_score, GridSearchCV, RandomizedSearchCV\n",
    "from sklearn.preprocessing import MultiLabelBinarizer\n"
   ]
  },
  {
   "cell_type": "markdown",
   "metadata": {},
   "source": [
    "# Feature Selection\n",
    "--- \n",
    "- Testing model cross val score with out any of the list object columns \n",
    "- the list object columns inlcude [Genres, directed by, starring, produced by, distributed by, music by, edited by, cinemetoography by, written by, screenplay by, productin companies]\n",
    "- I am also  removing is weekend becasue the day of week column covers that.\n",
    "- Imputing all the missing values and scalling the budget column\n",
    "---\n",
    "### Variane Analysis \n",
    "- Remove the list object columns with the least amount of variance or deviation"
   ]
  },
  {
   "cell_type": "code",
   "execution_count": 2,
   "metadata": {},
   "outputs": [],
   "source": [
    "df_out = pd.read_csv('cleaned_data_dummies.csv', index_col = 0)"
   ]
  },
  {
   "cell_type": "code",
   "execution_count": 3,
   "metadata": {},
   "outputs": [],
   "source": [
    "def split_train_test(data, test_ratio):\n",
    "    np.random.seed(0)\n",
    "    shuffled_indices = np.random.permutation(len(data))\n",
    "    test_set_size = int(len(data) * test_ratio)\n",
    "    test_indices = shuffled_indices[:test_set_size]\n",
    "    train_indices = shuffled_indices[test_set_size:]\n",
    "    return data.iloc[train_indices], data.iloc[test_indices]\n",
    "\n",
    "train_df, test_df = split_train_test(df_out, 0.2)\n",
    "train_df = train_df.drop(columns= 'Title')\n",
    "test_df = test_df.drop(columns= 'Title')"
   ]
  },
  {
   "cell_type": "code",
   "execution_count": 4,
   "metadata": {},
   "outputs": [],
   "source": [
    "train = train_df.dropna(subset=['Box office'])\n",
    "train = train.reset_index().drop(columns='index')\n",
    "\n",
    "x = train[['Running time','Based on','rsp','Budget','Year','Month','Day of week']]\n",
    "y = train['Box office']\n"
   ]
  },
  {
   "cell_type": "code",
   "execution_count": 7,
   "metadata": {},
   "outputs": [],
   "source": [
    "knn_imputation = KNNImputer(n_neighbors=9).fit_transform(x)\n",
    "knn_imputation = pd.DataFrame(knn_imputation, columns=x.columns)\n",
    "x = pd.concat([x.drop(columns=x.columns),knn_imputation], axis =1)\n",
    "\n",
    "power_transform = PowerTransformer().fit_transform(x[['Budget']])\n",
    "power_transform = pd.DataFrame(power_transform, columns=['Budget'])\n",
    "x = pd.concat([x.drop(columns=['Budget']), power_transform], axis =1)\n",
    "\n",
    "minmax = MinMaxScaler().fit_transform(x[['Running time','Budget','Year']])\n",
    "minmax = pd.DataFrame(minmax, columns=['Running time','Budget','Year'])\n",
    "x = pd.concat([x.drop(columns=['Running time','Budget','Year']),minmax], axis =1)"
   ]
  },
  {
   "cell_type": "code",
   "execution_count": 8,
   "metadata": {},
   "outputs": [
    {
     "name": "stdout",
     "output_type": "stream",
     "text": [
      "[0.56462271 0.45569228 0.556651  ]\n"
     ]
    },
    {
     "data": {
      "text/plain": [
       "0.5256553313312807"
      ]
     },
     "execution_count": 8,
     "metadata": {},
     "output_type": "execute_result"
    }
   ],
   "source": [
    "rf = RandomForestRegressor(n_jobs=-1, random_state=1)\n",
    "cv = cross_val_score(rf,x,y, cv=3)\n",
    "print(cv)\n",
    "cv.mean()"
   ]
  },
  {
   "cell_type": "code",
   "execution_count": 9,
   "metadata": {},
   "outputs": [],
   "source": [
    "# rf = RandomForestClassifier(random_state = 1)\n",
    "# param_grid =  {'n_estimators': [100,500,1000], \n",
    "#                                   'bootstrap': [True,False],\n",
    "#                                   'max_depth': [3,5,10,20,50,75,100,None],\n",
    "#                                   'max_features': ['auto','sqrt'],\n",
    "#                                   'min_samples_leaf': [1,2,4,10],\n",
    "#                                   'min_samples_split': [2,5,10]}\n",
    "                                  \n",
    "# rnd_grid = RandomizedSearchCV(rf, param_distributions = param_grid, n_iter = 100, cv = 5, verbose = True, n_jobs = -1)\n",
    "# clf_rand = clf_rf_rnd.fit(X_train_scaled,y_train)"
   ]
  },
  {
   "cell_type": "markdown",
   "metadata": {},
   "source": [
    "## Variance Analysis "
   ]
  },
  {
   "cell_type": "code",
   "execution_count": 10,
   "metadata": {},
   "outputs": [],
   "source": [
    "df = pd.read_csv('cleaned_data.csv')"
   ]
  },
  {
   "cell_type": "code",
   "execution_count": 15,
   "metadata": {},
   "outputs": [
    {
     "data": {
      "text/plain": [
       "Index(['Genres', 'Directed by', 'Starring', 'Produced by', 'Distributed by',\n",
       "       'Music by', 'Edited by', 'Cinematography', 'Written by',\n",
       "       'Screenplay by', 'Production companies'],\n",
       "      dtype='object')"
      ]
     },
     "execution_count": 15,
     "metadata": {},
     "output_type": "execute_result"
    }
   ],
   "source": [
    "roles = df.select_dtypes('object').columns.drop(['Language','Country','Title','Release date'])\n",
    "roles "
   ]
  },
  {
   "cell_type": "code",
   "execution_count": 16,
   "metadata": {},
   "outputs": [],
   "source": [
    "df.select_dtypes('object').columns.drop(['Language','Country','Title','Release date'])\n",
    "new_df = df.copy()\n",
    "for role in roles:\n",
    "    new_df[role] = new_df[role].str.replace('[','').str.replace(']','').str.replace(\"'\",'').str.split(',')"
   ]
  },
  {
   "cell_type": "code",
   "execution_count": 17,
   "metadata": {},
   "outputs": [],
   "source": [
    "def list_counts(col,df):\n",
    "    names = {}\n",
    "    for i in df[col]:\n",
    "        if type(i) == list:\n",
    "            for j in i:\n",
    "                if j != '':\n",
    "                    if j.strip() not in names:\n",
    "                        names[j.strip()] = 1\n",
    "                    else:\n",
    "                        names[j.strip()] +=1\n",
    "                else: pass\n",
    "    count_df = pd.DataFrame.from_dict(names, orient='index', columns = ['Count'])\n",
    "#     count_df = count_df.sort_values(by='Count', ascending=False)\n",
    "    return count_df"
   ]
  },
  {
   "cell_type": "code",
   "execution_count": 18,
   "metadata": {},
   "outputs": [
    {
     "name": "stderr",
     "output_type": "stream",
     "text": [
      "c:\\users\\jacob\\appdata\\local\\programs\\python\\python38\\lib\\site-packages\\pandas\\core\\strings.py:2001: UserWarning: This pattern has match groups. To actually get the groups, use str.extract.\n",
      "  return func(self, *args, **kwargs)\n"
     ]
    }
   ],
   "source": [
    "role_means= {}\n",
    "for role in roles:\n",
    "    items = list_counts(role,new_df).index\n",
    "    means = []\n",
    "    skip = False\n",
    "    for i in items:\n",
    "        try:\n",
    "            means.append(df['Box office'][df[role].str.contains(f\"'{i}'\", na=False)].mean())\n",
    "        except:\n",
    "            skip = True\n",
    "            continue\n",
    "    role_means[role] = means"
   ]
  },
  {
   "cell_type": "code",
   "execution_count": 19,
   "metadata": {},
   "outputs": [
    {
     "data": {
      "text/plain": [
       "Screenplay by           1.748159e+08\n",
       "Starring                1.474001e+08\n",
       "Directed by             1.348909e+08\n",
       "Edited by               1.348061e+08\n",
       "Written by              1.247570e+08\n",
       "Production companies    1.178353e+08\n",
       "Produced by             1.171524e+08\n",
       "Cinematography          1.020089e+08\n",
       "Music by                8.762419e+07\n",
       "Genres                  7.916602e+07\n",
       "Distributed by          6.802693e+07\n",
       "dtype: float64"
      ]
     },
     "execution_count": 19,
     "metadata": {},
     "output_type": "execute_result"
    }
   ],
   "source": [
    "role_stds = pd.DataFrame.from_dict(role_means, orient='index').std(axis=1).sort_values(ascending=False)\n",
    "role_stds"
   ]
  },
  {
   "cell_type": "code",
   "execution_count": 21,
   "metadata": {},
   "outputs": [
    {
     "data": {
      "text/plain": [
       "['Music by', 'Genres', 'Distributed by']"
      ]
     },
     "execution_count": 21,
     "metadata": {},
     "output_type": "execute_result"
    }
   ],
   "source": [
    "drop_cols = role_stds.index[-3:].tolist()\n",
    "drop_cols"
   ]
  },
  {
   "cell_type": "code",
   "execution_count": 22,
   "metadata": {},
   "outputs": [],
   "source": [
    "cols = df_out.columns"
   ]
  },
  {
   "cell_type": "code",
   "execution_count": 56,
   "metadata": {},
   "outputs": [],
   "source": [
    "music_by = cols[cols.str.contains(drop_cols[0])].tolist()\n",
    "genres = cols[cols.str.contains(drop_cols[1])] .tolist()\n",
    "distributed = cols[cols.str.contains(drop_cols[2])].tolist() "
   ]
  },
  {
   "cell_type": "code",
   "execution_count": 58,
   "metadata": {},
   "outputs": [],
   "source": [
    "df_cut = df_out[cols.drop(music_by+genres+distributed)]\n",
    "train_df, test_df = split_train_test(df_cut, 0.2)\n",
    "train_df = train_df.drop(columns= 'Title')\n",
    "test_df = test_df.drop(columns= 'Title')"
   ]
  },
  {
   "cell_type": "code",
   "execution_count": 59,
   "metadata": {},
   "outputs": [],
   "source": [
    "train = train_df.dropna(subset=['Box office'])\n",
    "train = train.reset_index().drop(columns='index')\n",
    "\n",
    "x = train.drop(columns=['Box office','Release date','Day','Language','Country','is_weekend'])\n",
    "y = train['Box office']"
   ]
  },
  {
   "cell_type": "code",
   "execution_count": 60,
   "metadata": {},
   "outputs": [],
   "source": [
    "knn_imputation = KNNImputer(n_neighbors=9).fit_transform(x[['Budget','Running time','Year','Month','Day of week','Based on']])\n",
    "knn_imputation = pd.DataFrame(knn_imputation, columns=['Budget','Running time','Year','Month','Day of week','Based on'])\n",
    "x = pd.concat([x.drop(columns=['Budget','Running time','Year','Month','Day of week','Based on']),knn_imputation], axis =1)\n",
    "\n",
    "power_transform = PowerTransformer().fit_transform(x[['Budget']])\n",
    "power_transform = pd.DataFrame(power_transform, columns=['Budget'])\n",
    "x = pd.concat([x.drop(columns=['Budget']), power_transform], axis =1)\n",
    "\n",
    "minmax = MinMaxScaler().fit_transform(x[['Running time','Budget','Year']])\n",
    "minmax = pd.DataFrame(minmax, columns=['Running time','Budget','Year'])\n",
    "x = pd.concat([x.drop(columns=['Running time','Budget','Year']),minmax], axis =1)\n",
    "\n",
    "columns_trans = make_column_transformer(\n",
    "    (OneHotEncoder(),['Month','Day of week']),\n",
    "    remainder='passthrough')"
   ]
  },
  {
   "cell_type": "code",
   "execution_count": 62,
   "metadata": {},
   "outputs": [
    {
     "name": "stdout",
     "output_type": "stream",
     "text": [
      "[0.54418666 0.52685427 0.58399685]\n"
     ]
    },
    {
     "data": {
      "text/plain": [
       "0.551679261360236"
      ]
     },
     "execution_count": 62,
     "metadata": {},
     "output_type": "execute_result"
    }
   ],
   "source": [
    "rf = RandomForestRegressor(n_jobs=-1, max_depth=6)\n",
    "pipe = make_pipeline(columns_trans, rf)\n",
    "cv = cross_val_score(pipe, x, y, cv=3)\n",
    "print(cv)\n",
    "cv.mean()"
   ]
  },
  {
   "cell_type": "markdown",
   "metadata": {},
   "source": [
    "The model peformoed than when I used all the list object columns so it will not be used"
   ]
  },
  {
   "cell_type": "code",
   "execution_count": null,
   "metadata": {},
   "outputs": [],
   "source": []
  }
 ],
 "metadata": {
  "kernelspec": {
   "display_name": "Python 3",
   "language": "python",
   "name": "python3"
  },
  "language_info": {
   "codemirror_mode": {
    "name": "ipython",
    "version": 3
   },
   "file_extension": ".py",
   "mimetype": "text/x-python",
   "name": "python",
   "nbconvert_exporter": "python",
   "pygments_lexer": "ipython3",
   "version": "3.8.5"
  }
 },
 "nbformat": 4,
 "nbformat_minor": 4
}

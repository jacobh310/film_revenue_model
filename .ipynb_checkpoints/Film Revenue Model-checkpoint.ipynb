{
 "cells": [
  {
   "cell_type": "code",
   "execution_count": 1,
   "metadata": {},
   "outputs": [],
   "source": [
    "import numpy as np\n",
    "import pandas as pd \n",
    "from datetime import datetime\n"
   ]
  },
  {
   "cell_type": "code",
   "execution_count": 2,
   "metadata": {},
   "outputs": [
    {
     "name": "stderr",
     "output_type": "stream",
     "text": [
      "c:\\users\\jacob\\appdata\\local\\programs\\python\\python38\\lib\\site-packages\\IPython\\core\\interactiveshell.py:3146: DtypeWarning: Columns (36,48,68,69,71,72,75,78,82,100,107,108,109,110,111,112,113,114,115,116,117,118,119,120,121,122,123,124,125,126,127,128,129,130,131,132,134,135,136,137,138,139,140,141,145,146,147,148,149,150,151,155,158,159,165,166,167,168,169,170,171,172,173,175,176,177,178,179,180,181,182,183,184,185,186,187,188,194,195,196,200,201,202,204,205,206,207,208,209,210,211,216,217,218,219,220,221,222,223,224,225,226,227,228,229,230,231,232,233,234,235,236,237,238,239,240,241,242,243,244,245,246,247,248,249,250,251,252) have mixed types.Specify dtype option on import or set low_memory=False.\n",
      "  has_raised = await self.run_ast_nodes(code_ast.body, cell_name,\n"
     ]
    }
   ],
   "source": [
    "df = pd.read_csv('wiki_data.csv')\n",
    "df=df[df.columns[1:]]\n",
    "nan_values = df[df.columns[:26]].isna().sum().sort_values()\n",
    "columns_keeping = nan_values[nan_values<6000].index\n",
    "df = df[columns_keeping]\n",
    "df['Based on'] = df['Based on'].apply(lambda x: 0 if pd.isna(x) else 1)"
   ]
  },
  {
   "cell_type": "code",
   "execution_count": 3,
   "metadata": {},
   "outputs": [
    {
     "name": "stdout",
     "output_type": "stream",
     "text": [
      "Based on\n"
     ]
    }
   ],
   "source": [
    "for col in df.columns[1:]:\n",
    "    try:\n",
    "        df[col] = df[col].str[3:-3]\n",
    "    except:\n",
    "        print(col)\n",
    "        "
   ]
  },
  {
   "cell_type": "code",
   "execution_count": 4,
   "metadata": {},
   "outputs": [],
   "source": [
    "df['Running time'] = df['Running time'].str.extract(r'(\\d+)')\n",
    "df['Running time'] = pd.to_numeric(df['Running time'])\n",
    "df['Starring'] = df['Starring'].str.split(',')\n",
    "df['Produced by'] = df['Produced by'].str.split(',')\n",
    "df['Release date'] = df['Release date'].str.split('(') \n"
   ]
  },
  {
   "cell_type": "code",
   "execution_count": 5,
   "metadata": {},
   "outputs": [],
   "source": [
    "df['Release date length'] = df['Release date'].apply(lambda x:len(x) if type(x) == list else x)\n",
    "df['Release date'] =  df['Release date'][df['Release date length']!=10]"
   ]
  },
  {
   "cell_type": "code",
   "execution_count": 6,
   "metadata": {},
   "outputs": [],
   "source": [
    " def clean_release(row):\n",
    "        if type(row)==list:\n",
    "            if len(row)==1:\n",
    "                return row[0]\n",
    "            else:\n",
    "                return row[1][:-1]\n",
    "        else:\n",
    "            row\n",
    "            \n",
    "df['Release date']=df['Release date'].apply(clean_release).str.split(')').str[0]"
   ]
  },
  {
   "cell_type": "code",
   "execution_count": 7,
   "metadata": {},
   "outputs": [],
   "source": [
    "def fix_dates (row):\n",
    "    if pd.isna(row):\n",
    "        return row\n",
    "    else:\n",
    "        try : \n",
    "            return datetime.strptime(row, \"%Y-%m-%d\")\n",
    "        except:\n",
    "            try:\n",
    "                return datetime.strptime(row, \"%B %d, %Y\")\n",
    "            except:\n",
    "                return row\n",
    "    \n",
    "\n",
    "df['Release date'] = df['Release date'].apply(fix_dates)"
   ]
  },
  {
   "cell_type": "code",
   "execution_count": 8,
   "metadata": {},
   "outputs": [],
   "source": [
    "df['Billion'] = df['Box office'].str.contains('billio',na=False,regex=False)\n"
   ]
  },
  {
   "cell_type": "code",
   "execution_count": null,
   "metadata": {},
   "outputs": [],
   "source": [
    "df['Box office length'] = df['Box office'].str.split('million').apply(lambda x:len(x) if type(x) == list else x)\n",
    "df['Box office'] = df['Box office'].str[1:]\n",
    "df['Box office'] = df['Box office'].str.replace('$','')\n",
    "df['Box office'] =  df['Box office'].str.split('million')\n",
    "df = df[~((df['Box office length']==3) | (df['Box office length']==4))]"
   ]
  },
  {
   "cell_type": "code",
   "execution_count": null,
   "metadata": {
    "scrolled": false
   },
   "outputs": [],
   "source": [
    "## BO len = 2 have the million or billion text\n",
    "## BO len = 1 do not have million or billion text"
   ]
  },
  {
   "cell_type": "code",
   "execution_count": null,
   "metadata": {},
   "outputs": [],
   "source": [
    "import re\n",
    "def clean_box(row):\n",
    "    if type(row)==list:\n",
    "        if len(row)==1:\n",
    "            string = re.split(' |\\[', row[0])[0]  # splting by space or left bracket\n",
    "            string = string.replace(',','')\n",
    "            try: return float(string)\n",
    "            except: return string\n",
    "        else:\n",
    "            try: return float(row[0])*1000000\n",
    "            except: return row[0]\n",
    "    else:\n",
    "        return row\n",
    "    \n",
    "def billy(row):\n",
    "    if row['Billion'] == True:\n",
    "        try: return float(row['Box office'].split('\\\\')) * 1000\n",
    "        except: return row['Box office'] *1000\n",
    "    else:\n",
    "        return row['Box office']"
   ]
  },
  {
   "cell_type": "code",
   "execution_count": null,
   "metadata": {
    "scrolled": true
   },
   "outputs": [],
   "source": [
    "df['Box office'] = df['Box office'].apply(clean_box)\n",
    "df['Box office'] = df.apply(billy, axis=1)"
   ]
  },
  {
   "cell_type": "code",
   "execution_count": null,
   "metadata": {},
   "outputs": [],
   "source": [
    "df['Box office'].apply(type).value_counts()"
   ]
  },
  {
   "cell_type": "code",
   "execution_count": null,
   "metadata": {
    "scrolled": false
   },
   "outputs": [],
   "source": [
    "# df['Budget'].str[1:].str.split('million').str[0][:40]\n",
    "df['Budget'] = df['Budget'].str[1:].apply(lambda x: re.split(' |\\[', str(x))).str[0]\n",
    "# df['Budget'].apply(lambda x: (float(x.replace(',','').split('–')[0])+float(x.replace(',','').split('–')[1]))/2 if '–' in x else x)\n",
    "\n",
    "def clean_budget(x):\n",
    "    if '–' in x:\n",
    "        try: return (float(x.replace(',','').split('–')[0])+float(x.replace(',','').split('–')[1]))/2 \n",
    "        except: return np.nan\n",
    "    else:\n",
    "        return x\n",
    "\n",
    "df['Budget'] = df['Budget'].apply(lambda x: clean_budget(x))"
   ]
  },
  {
   "cell_type": "code",
   "execution_count": null,
   "metadata": {
    "scrolled": true
   },
   "outputs": [],
   "source": [
    "df[['Title','Box office']][df['Billion']==True]\n",
    "\n",
    "## need to account for the string like 1.005\\xa\n",
    "## filter the box offices that contain equivalent "
   ]
  },
  {
   "cell_type": "code",
   "execution_count": null,
   "metadata": {},
   "outputs": [],
   "source": [
    "print(df['Box office'][df['Title']=='Rocky'])"
   ]
  },
  {
   "cell_type": "code",
   "execution_count": 9,
   "metadata": {},
   "outputs": [],
   "source": [
    "df = df[df['Box office'].str.contains('$', na=False, regex=False)]\n",
    "x = df[['Title','Box office']][df['Billion']==True]"
   ]
  },
  {
   "cell_type": "code",
   "execution_count": 32,
   "metadata": {},
   "outputs": [],
   "source": [
    "import re \n",
    "def clean_box(row):\n",
    "    box = row[1:]\n",
    "    box =box.replace('$','')\n",
    "    box = re.split(\" |\\(|\\[\", box)\n",
    "    box = box[0].split('\\\\')[0]\n",
    "    \n",
    "    if bool(re.match(r\".*million.*\", row)):\n",
    "        try: return float(box)*1000000\n",
    "        except: return np.nan\n",
    "    elif bool(re.match(r\".*billion.*\", row)):\n",
    "        try: return float(box)*1000000000\n",
    "        except: return np.nan  \n",
    "        \n",
    "    else: \n",
    "        try: return float(box.replace(',',''))\n",
    "        except: np.nan\n",
    "    \n",
    "    \n",
    "\n",
    "y = df['Box office'].apply(clean_box)"
   ]
  },
  {
   "cell_type": "code",
   "execution_count": 34,
   "metadata": {},
   "outputs": [
    {
     "data": {
      "text/plain": [
       "0        21400000.0\n",
       "1         2700000.0\n",
       "2        57700000.0\n",
       "3         7331647.0\n",
       "4         6939946.0\n",
       "           ...     \n",
       "7466    171600000.0\n",
       "7467    218800000.0\n",
       "7468    384900000.0\n",
       "7469     50400000.0\n",
       "7470       364952.0\n",
       "Name: Box office, Length: 5911, dtype: float64"
      ]
     },
     "execution_count": 34,
     "metadata": {},
     "output_type": "execute_result"
    }
   ],
   "source": []
  },
  {
   "cell_type": "code",
   "execution_count": null,
   "metadata": {},
   "outputs": [],
   "source": []
  }
 ],
 "metadata": {
  "kernelspec": {
   "display_name": "Python 3",
   "language": "python",
   "name": "python3"
  },
  "language_info": {
   "codemirror_mode": {
    "name": "ipython",
    "version": 3
   },
   "file_extension": ".py",
   "mimetype": "text/x-python",
   "name": "python",
   "nbconvert_exporter": "python",
   "pygments_lexer": "ipython3",
   "version": "3.8.5"
  }
 },
 "nbformat": 4,
 "nbformat_minor": 4
}

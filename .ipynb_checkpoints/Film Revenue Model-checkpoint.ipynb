{
 "cells": [
  {
   "cell_type": "code",
   "execution_count": 1,
   "metadata": {},
   "outputs": [],
   "source": [
    "import numpy as np\n",
    "import pandas as pd \n",
    "from datetime import datetime\n",
    "from sklearn.preprocessing import MultiLabelBinarizer"
   ]
  },
  {
   "cell_type": "markdown",
   "metadata": {},
   "source": [
    "## Data Cleaning "
   ]
  },
  {
   "cell_type": "code",
   "execution_count": 2,
   "metadata": {},
   "outputs": [
    {
     "name": "stderr",
     "output_type": "stream",
     "text": [
      "C:\\Users\\jacob\\anaconda3\\lib\\site-packages\\IPython\\core\\interactiveshell.py:3146: DtypeWarning: Columns (37,49,69,70,72,73,76,79,83,101,108,109,110,111,112,113,114,115,116,117,118,119,120,121,122,123,124,125,126,127,128,129,130,131,132,133,135,136,137,138,139,140,141,142,146,147,148,149,150,151,152,156,159,160,166,167,168,169,170,171,172,173,174,176,177,178,179,180,181,182,183,184,185,186,187,188,189,195,196,197,201,202,203,205,206,207,208,209,210,211,212,217,218,219,220,221,222,223,224,225,226,227,228,229,230,231,232,233,234,235,236,237,238,239,240,241,242,243,244,245,246,247,248,249,250,251,252,253) have mixed types.Specify dtype option on import or set low_memory=False.\n",
      "  has_raised = await self.run_ast_nodes(code_ast.body, cell_name,\n"
     ]
    }
   ],
   "source": [
    "df = pd.read_csv('wiki_data.csv')\n",
    "df=df[df.columns[1:]]\n",
    "nan_values = df[df.columns[:26]].isna().sum().sort_values()\n",
    "columns_keeping = nan_values[nan_values<6000].index\n",
    "df = df[columns_keeping]\n",
    "df['Based on'] = df['Based on'].apply(lambda x: 0 if pd.isna(x) else 1)"
   ]
  },
  {
   "cell_type": "code",
   "execution_count": 3,
   "metadata": {},
   "outputs": [
    {
     "name": "stdout",
     "output_type": "stream",
     "text": [
      "Based on\n"
     ]
    }
   ],
   "source": [
    "for col in df.columns[1:].drop('Genres'):\n",
    "    try:\n",
    "        df[col] = df[col].str[3:-3]\n",
    "    except:\n",
    "        print(col)\n",
    "        continue\n",
    "        "
   ]
  },
  {
   "cell_type": "code",
   "execution_count": 4,
   "metadata": {},
   "outputs": [],
   "source": [
    "df['Running time'] = df['Running time'].str.extract(r'(\\d+)')\n",
    "df['Running time'] = pd.to_numeric(df['Running time'])\n",
    "\n",
    "## making all these columns into list becasue they have mulitple names and will make creating dummy variables for each\n",
    "## later in the cleaning process\n",
    "df['Directed by'] = df['Directed by'].str.split(',')\n",
    "df['Starring'] = df['Starring'].str.split(',')\n",
    "df['Produced by'] = df['Produced by'].str.split(',')\n",
    "df['Screenplay by'] = df['Screenplay by'].str.split(',')\n",
    "df['Edited by'] = df['Edited by'].str.split(',')\n",
    "df['Cinematography'] = df['Cinematography'].str.split(',')\n",
    "df['Written by'] = df['Written by'].str.split(',')\n",
    "df['Music by'] = df['Music by'].str.split(',')\n",
    "df['Productioncompanies '] = df['Productioncompanies '].str.split(',')\n",
    "df['Distributed by'] = df['Distributed by'].str.split(',')\n",
    "df['Productioncompany '] = df['Productioncompany '].str.split(',')"
   ]
  },
  {
   "cell_type": "code",
   "execution_count": 5,
   "metadata": {},
   "outputs": [],
   "source": [
    "df['Release date'] = df['Release date'].str.split('(') \n",
    "df['Release date length'] = df['Release date'].apply(lambda x:len(x) if type(x) == list else x)\n",
    "df['Release date'] =  df['Release date'][df['Release date length']!=10]"
   ]
  },
  {
   "cell_type": "code",
   "execution_count": 6,
   "metadata": {},
   "outputs": [],
   "source": [
    " def clean_release(row):\n",
    "        if type(row)==list:\n",
    "            if len(row)==1:\n",
    "                return row[0]\n",
    "            else:\n",
    "                return row[1][:-1]\n",
    "        else:\n",
    "            return row\n",
    "            \n",
    "df['Release date']=df['Release date'].apply(clean_release).str.split(')').str[0]"
   ]
  },
  {
   "cell_type": "code",
   "execution_count": 7,
   "metadata": {},
   "outputs": [],
   "source": [
    "def fix_dates (row):\n",
    "    if pd.isna(row):\n",
    "        return row\n",
    "    else:\n",
    "        try : \n",
    "            return datetime.strptime(row, \"%Y-%m-%d\")\n",
    "        except:\n",
    "            try:\n",
    "                return datetime.strptime(row, \"%B %d, %Y\")\n",
    "            except:\n",
    "                return row\n",
    "    \n",
    "\n",
    "df['Release date'] = df['Release date'].apply(fix_dates)\n",
    "df['Release date'] = df['Release date'].apply(lambda x: x if type(x) == datetime else np.nan)"
   ]
  },
  {
   "cell_type": "code",
   "execution_count": 8,
   "metadata": {},
   "outputs": [],
   "source": [
    "import re \n",
    "df = df[df['Box office'].str.contains('$', na=False, regex=False)]  # remove any non dollar currency\n",
    "df =df[~df['Box office'].str.contains('admission',na=False,regex=False)]#removes the 5 rows with admission in the box office col\n",
    "\n",
    "def clean_box(row):\n",
    "    box = row[1:]\n",
    "    box =box.replace('$','')\n",
    "    box = re.split(\" |\\(|\\[\", box)\n",
    "    box = box[0].split('\\\\')[0]\n",
    "    \n",
    "    if bool(re.match(r\".*million.*\", row)):\n",
    "        try: return float(box)*1000000\n",
    "        except: return np.nan\n",
    "    elif bool(re.match(r\".*billion.*\", row)):\n",
    "        try: return float(box)*1000000000\n",
    "        except: return np.nan  \n",
    "        \n",
    "    else: \n",
    "        try: return float(box.replace(',',''))\n",
    "        except: return np.nan\n",
    "    \n",
    "    \n",
    "\n",
    "df['Box office'] = df['Box office'].apply(clean_box)"
   ]
  },
  {
   "cell_type": "code",
   "execution_count": 9,
   "metadata": {},
   "outputs": [],
   "source": [
    "df['million'] = df['Budget'].str.contains('millio',na=False,regex=False)\n",
    "df['Budget'] = df['Budget'].str[1:].apply(lambda x: re.split(' |\\[', str(x))).str[0].str.replace(',','').str.split('\\\\').str[0]"
   ]
  },
  {
   "cell_type": "code",
   "execution_count": 10,
   "metadata": {},
   "outputs": [],
   "source": [
    "def clean_budget(x):\n",
    "    if '–' in x:\n",
    "        try: return (float(x.replace(',','').split('–')[0])+float(x.replace(',','').split('–')[1]))/2 \n",
    "        except: return np.nan\n",
    "    else:\n",
    "        try: return float(x)\n",
    "        except: return np.nan\n",
    "df['Budget'] = df['Budget'].apply(clean_budget)"
   ]
  },
  {
   "cell_type": "code",
   "execution_count": 11,
   "metadata": {},
   "outputs": [],
   "source": [
    "def million(x):\n",
    "    budget = x['Budget']\n",
    "    if x['million'] == True:\n",
    "        return budget*1000000\n",
    "    else:\n",
    "        return budget\n",
    "df['Budget'] = df.apply(million,axis=1)\n",
    "df = df.drop(columns=['Release date length','million'])\n",
    "budget_drop = df[df['Budget']>500000000].index\n",
    "df = df.drop(index=budget_drop)"
   ]
  },
  {
   "cell_type": "code",
   "execution_count": 12,
   "metadata": {
    "scrolled": false
   },
   "outputs": [],
   "source": [
    "def clean_names(row):\n",
    "    row_list = []\n",
    "    if type(row) == list:\n",
    "        for word in row:\n",
    "            word = word.replace(\"'\",'')\n",
    "            word = word.replace('\"','')\n",
    "            word = word.strip()\n",
    "            if ']' in word:\n",
    "                word = word[:-3]\n",
    "            if len(word) <40:\n",
    "                row_list.append(word)\n",
    "        return row_list\n",
    "    else: return np.nan\n",
    "    \n",
    "df['Starring'] = df['Starring'].apply(clean_names)\n",
    "df['Produced by'] = df['Produced by'].apply(clean_names)\n",
    "df['Edited by'] = df['Edited by'].apply(clean_names)\n",
    "df['Cinematography'] = df['Cinematography'].apply(clean_names)\n",
    "df['Directed by'] = df['Directed by'].apply(clean_names)\n",
    "df['Written by'] = df['Written by'].apply(clean_names)\n",
    "df['Productioncompanies '] = df['Productioncompanies '].apply(clean_names)\n",
    "df['Music by'] = df['Music by'].apply(clean_names)\n",
    "df['Screenplay by'] = df['Screenplay by'].apply(clean_names)\n",
    "df['Distributed by'] = df['Distributed by'].apply(clean_names)\n",
    "df['Productioncompany '] = df['Productioncompany '].apply(clean_names)"
   ]
  },
  {
   "cell_type": "code",
   "execution_count": 13,
   "metadata": {},
   "outputs": [],
   "source": [
    "def strip_genres(row):\n",
    "    if type(row) == list:\n",
    "        return [x.strip().lower() for x in row]\n",
    "    else:\n",
    "        return np.nan\n",
    "df['Genres']= df['Genres'].apply(lambda x: x if len(x)>2 else np.nan).str[1:-1]\n",
    "df['Genres']= df['Genres'].str.replace(\"'\",'').str.replace('film','').str.split(',')\n",
    "df['Genres'] = df['Genres'].apply(strip_genres)"
   ]
  },
  {
   "cell_type": "markdown",
   "metadata": {},
   "source": [
    "### Merge productioncompanies and productioncompany columns "
   ]
  },
  {
   "cell_type": "code",
   "execution_count": 14,
   "metadata": {},
   "outputs": [],
   "source": [
    "def production(x):\n",
    "    comp = x['Productioncompany ']\n",
    "    comps = x ['Productioncompanies ']\n",
    "    if type(comp) == list and type(comps) != list:\n",
    "        return comp\n",
    "    elif type(comps) == list and type(comp) != list:\n",
    "        return comps\n",
    "    else:\n",
    "        return comp+comps\n",
    "    \n",
    "df['Production companies']= df.apply(production, axis =1)\n",
    "df['Production companies'] = df['Production companies'].apply(clean_names)\n",
    "df = df.drop(columns = ['Productioncompanies ', 'Productioncompany '])"
   ]
  },
  {
   "cell_type": "markdown",
   "metadata": {},
   "source": [
    "### Feature Engineering: Category reduction\n",
    "- any date point that does not appear more than a certain threshhold will be lumped into the the 'other catrogory'\n",
    "- due due varying amounts of granularity within the columns, the threshold will vary by column and will be tested experimentally \n",
    "---\n",
    "- I am making a helper function that will count the items in the columns with list objects\n",
    "- Going to test with threshold 1  \n",
    "\n",
    "**finish explaining**"
   ]
  },
  {
   "cell_type": "code",
   "execution_count": 15,
   "metadata": {},
   "outputs": [],
   "source": [
    "# def list_counts(col):\n",
    "\n",
    "#     names = {}\n",
    "#     for i in df[col]:\n",
    "#         if type(i) == list:\n",
    "#             for j in i:\n",
    "#                 if j not in names:\n",
    "#                     names[j] = 1\n",
    "#                 else:\n",
    "#                     names[j] +=1\n",
    "#     count_df = pd.DataFrame.from_dict(names, orient='index', columns = ['Count'])\n",
    "#     count_df = count_df.sort_values(by='Count', ascending=False)\n",
    "#     return count_df"
   ]
  },
  {
   "cell_type": "code",
   "execution_count": 16,
   "metadata": {
    "scrolled": true
   },
   "outputs": [],
   "source": [
    "# def reduction(threshold,col):\n",
    "#     counts = list_counts(col)\n",
    "#     return counts[counts<=threshold].sum()[0]/counts[counts>threshold].sum()[0]"
   ]
  },
  {
   "cell_type": "code",
   "execution_count": 17,
   "metadata": {},
   "outputs": [],
   "source": [
    "# cols = df.select_dtypes('object').columns.drop(['Language','Country','Productioncompanies ', 'Productioncompany ','Title'])\n",
    "\n",
    "# others = []\n",
    "# for col in cols:\n",
    "#     if reduction(1,col) <= 0.20:\n",
    "#         others.append(col)\n"
   ]
  },
  {
   "cell_type": "code",
   "execution_count": 18,
   "metadata": {},
   "outputs": [],
   "source": [
    "# drop = list_counts('Starring')==1\n",
    "# drop_inx = keep.sum()[0]\n",
    "\n",
    "# star_drop = list_counts('Starring')[-drop_inx:].index"
   ]
  },
  {
   "cell_type": "code",
   "execution_count": 19,
   "metadata": {},
   "outputs": [],
   "source": [
    "df['Country']=df['Country'].str.split('[').str[0].apply(lambda x:'other' if 'United States' not in str(x) else 'United States')\n",
    "df['Language'] = df['Language'].str.split('[').str[0]\n",
    "lang_counts = df['Language'].value_counts()\n",
    "drop_langs = lang_counts[lang_counts<6].index\n",
    "df['Language']= df['Language'].apply(lambda x: 'other' if x in drop_langs else x)\n",
    "\n",
    "\n"
   ]
  },
  {
   "cell_type": "code",
   "execution_count": 20,
   "metadata": {},
   "outputs": [],
   "source": [
    "def list_counts(col):\n",
    "    names = {}\n",
    "    for i in df[col]:\n",
    "        if type(i) == list:\n",
    "            for j in i:\n",
    "                if j not in names:\n",
    "                    names[j] = 1\n",
    "                else:\n",
    "                    names[j] +=1\n",
    "    count_df = pd.DataFrame.from_dict(names, orient='index', columns = ['Count'])\n",
    "    count_df = count_df.sort_values(by='Count', ascending=False)\n",
    "    return count_df\n",
    "\n",
    "upper = list_counts('Genres')[list_counts('Genres')>=16]\n",
    "upper.dropna(inplace=True)\n",
    "keep_genres = upper.index\n"
   ]
  },
  {
   "cell_type": "code",
   "execution_count": 21,
   "metadata": {},
   "outputs": [],
   "source": [
    "def drop_genres(row):\n",
    "    if type(row) == list:\n",
    "        genres = []\n",
    "        for i in row:\n",
    "            if i in keep_genres:\n",
    "                genres.append(i)\n",
    "            else:\n",
    "                genres.append('other')\n",
    "        return genres\n",
    "    else:\n",
    "        return np.nan\n",
    "    \n",
    "df['Genres']=df['Genres'].apply(drop_genres)"
   ]
  },
  {
   "cell_type": "markdown",
   "metadata": {},
   "source": [
    "### Dummy variables for list objects in rows"
   ]
  },
  {
   "cell_type": "code",
   "execution_count": 22,
   "metadata": {},
   "outputs": [],
   "source": [
    "# dummy_df = df.copy()\n",
    "# dummy_df = dummy_df.reset_index().drop(columns='index')\n",
    "# # cols = df.select_dtypes('object').columns.drop(['Language','Country','Productioncompanies ', 'Productioncompany ','Title'])\n",
    "\n",
    "\n",
    "# mlb = MultiLabelBinarizer()\n",
    "# starring_nan = dummy_df[dummy_df['Starring'].isna()].drop(columns='Starring')\n",
    "# dummy_df = dummy_df[~dummy_df['Starring'].isna()]\n",
    "\n",
    "# # dummy_df = dummy_df.join(pd.DataFrame(mlb.fit_transform(dummy_df.pop('Starring')),\n",
    "# #                           columns=mlb.classes_,\n",
    "# #                           index=dummy_df.index))"
   ]
  },
  {
   "cell_type": "code",
   "execution_count": 23,
   "metadata": {},
   "outputs": [],
   "source": [
    "df = df.reset_index().drop(columns='index')\n",
    "\n",
    "def make_dummies(df,col):\n",
    "    \n",
    "    dummy_df = df.copy()\n",
    "    mlb = MultiLabelBinarizer()\n",
    "    starring_nan = dummy_df[dummy_df[col].isna()].drop(columns=col)\n",
    "    dummy_df = dummy_df[~dummy_df[col].isna()]\n",
    "\n",
    "    dummy_df = dummy_df.join(pd.DataFrame(mlb.fit_transform(dummy_df.pop(col)),\n",
    "                              columns=mlb.classes_,\n",
    "                              index=dummy_df.index))\n",
    "\n",
    "    combined = pd.concat([dummy_df, starring_nan], axis=0)\n",
    "    dummies = combined.iloc[:,df.shape[1]-1:].fillna(0)\n",
    "#     new = combined.iloc[:,:df.shape[1] -1]\n",
    "#     new_df = pd.concat([new, dummies],axis=1)\n",
    "    \n",
    "    return dummies"
   ]
  },
  {
   "cell_type": "code",
   "execution_count": 24,
   "metadata": {},
   "outputs": [],
   "source": [
    "cols = df.select_dtypes('object').columns.drop(['Language','Country','Title'])\n",
    "new_df = df.copy()\n",
    "for col in cols:\n",
    "    x = make_dummies(new_df, col)\n",
    "    df = pd.concat([df,x], axis = 1)"
   ]
  },
  {
   "cell_type": "code",
   "execution_count": 25,
   "metadata": {},
   "outputs": [
    {
     "data": {
      "text/html": [
       "<div>\n",
       "<style scoped>\n",
       "    .dataframe tbody tr th:only-of-type {\n",
       "        vertical-align: middle;\n",
       "    }\n",
       "\n",
       "    .dataframe tbody tr th {\n",
       "        vertical-align: top;\n",
       "    }\n",
       "\n",
       "    .dataframe thead th {\n",
       "        text-align: right;\n",
       "    }\n",
       "</style>\n",
       "<table border=\"1\" class=\"dataframe\">\n",
       "  <thead>\n",
       "    <tr style=\"text-align: right;\">\n",
       "      <th></th>\n",
       "      <th>Title</th>\n",
       "      <th>Running time</th>\n",
       "      <th>Release date</th>\n",
       "      <th>Language</th>\n",
       "      <th>Box office</th>\n",
       "      <th>Country</th>\n",
       "      <th>Budget</th>\n",
       "      <th>Based on</th>\n",
       "      <th>3d</th>\n",
       "      <th>action</th>\n",
       "      <th>...</th>\n",
       "      <th>de Passe Entertainment</th>\n",
       "      <th>di Bonaventura Pictures</th>\n",
       "      <th>eOne</th>\n",
       "      <th>iDeal Partners</th>\n",
       "      <th>inc.</th>\n",
       "      <th>inc.Leeds / Ben-Ami Productions</th>\n",
       "      <th>nWave Pictures</th>\n",
       "      <th>uFilm</th>\n",
       "      <th>uFund</th>\n",
       "      <th>uMedia</th>\n",
       "    </tr>\n",
       "  </thead>\n",
       "  <tbody>\n",
       "    <tr>\n",
       "      <th>0</th>\n",
       "      <td>The Adventures of Ford Fairlane</td>\n",
       "      <td>102.0</td>\n",
       "      <td>1990-07-11</td>\n",
       "      <td>English</td>\n",
       "      <td>21400000.0</td>\n",
       "      <td>United States</td>\n",
       "      <td>20000000.0</td>\n",
       "      <td>1</td>\n",
       "      <td>0.0</td>\n",
       "      <td>1.0</td>\n",
       "      <td>...</td>\n",
       "      <td>0.0</td>\n",
       "      <td>0.0</td>\n",
       "      <td>0.0</td>\n",
       "      <td>0.0</td>\n",
       "      <td>0.0</td>\n",
       "      <td>0.0</td>\n",
       "      <td>0.0</td>\n",
       "      <td>0.0</td>\n",
       "      <td>0.0</td>\n",
       "      <td>0.0</td>\n",
       "    </tr>\n",
       "    <tr>\n",
       "      <th>1</th>\n",
       "      <td>After Dark, My Sweet</td>\n",
       "      <td>114.0</td>\n",
       "      <td>1990-05-17</td>\n",
       "      <td>English</td>\n",
       "      <td>2700000.0</td>\n",
       "      <td>United States</td>\n",
       "      <td>6000000.0</td>\n",
       "      <td>1</td>\n",
       "      <td>0.0</td>\n",
       "      <td>0.0</td>\n",
       "      <td>...</td>\n",
       "      <td>0.0</td>\n",
       "      <td>0.0</td>\n",
       "      <td>0.0</td>\n",
       "      <td>0.0</td>\n",
       "      <td>0.0</td>\n",
       "      <td>0.0</td>\n",
       "      <td>0.0</td>\n",
       "      <td>0.0</td>\n",
       "      <td>0.0</td>\n",
       "      <td>0.0</td>\n",
       "    </tr>\n",
       "    <tr>\n",
       "      <th>2</th>\n",
       "      <td>Air America</td>\n",
       "      <td>113.0</td>\n",
       "      <td>1990-08-10</td>\n",
       "      <td>English</td>\n",
       "      <td>57700000.0</td>\n",
       "      <td>United States</td>\n",
       "      <td>32500000.0</td>\n",
       "      <td>1</td>\n",
       "      <td>0.0</td>\n",
       "      <td>0.0</td>\n",
       "      <td>...</td>\n",
       "      <td>0.0</td>\n",
       "      <td>0.0</td>\n",
       "      <td>0.0</td>\n",
       "      <td>0.0</td>\n",
       "      <td>0.0</td>\n",
       "      <td>0.0</td>\n",
       "      <td>0.0</td>\n",
       "      <td>0.0</td>\n",
       "      <td>0.0</td>\n",
       "      <td>0.0</td>\n",
       "    </tr>\n",
       "    <tr>\n",
       "      <th>3</th>\n",
       "      <td>Alice</td>\n",
       "      <td>106.0</td>\n",
       "      <td>1990-12-25</td>\n",
       "      <td>English</td>\n",
       "      <td>7331647.0</td>\n",
       "      <td>United States</td>\n",
       "      <td>12000000.0</td>\n",
       "      <td>0</td>\n",
       "      <td>0.0</td>\n",
       "      <td>0.0</td>\n",
       "      <td>...</td>\n",
       "      <td>0.0</td>\n",
       "      <td>0.0</td>\n",
       "      <td>0.0</td>\n",
       "      <td>0.0</td>\n",
       "      <td>0.0</td>\n",
       "      <td>0.0</td>\n",
       "      <td>0.0</td>\n",
       "      <td>0.0</td>\n",
       "      <td>0.0</td>\n",
       "      <td>0.0</td>\n",
       "    </tr>\n",
       "    <tr>\n",
       "      <th>4</th>\n",
       "      <td>Almost an Angel</td>\n",
       "      <td>95.0</td>\n",
       "      <td>1990-12-19</td>\n",
       "      <td>English</td>\n",
       "      <td>6939946.0</td>\n",
       "      <td>United States</td>\n",
       "      <td>25000000.0</td>\n",
       "      <td>0</td>\n",
       "      <td>0.0</td>\n",
       "      <td>0.0</td>\n",
       "      <td>...</td>\n",
       "      <td>0.0</td>\n",
       "      <td>0.0</td>\n",
       "      <td>0.0</td>\n",
       "      <td>0.0</td>\n",
       "      <td>0.0</td>\n",
       "      <td>0.0</td>\n",
       "      <td>0.0</td>\n",
       "      <td>0.0</td>\n",
       "      <td>0.0</td>\n",
       "      <td>0.0</td>\n",
       "    </tr>\n",
       "  </tbody>\n",
       "</table>\n",
       "<p>5 rows × 32685 columns</p>\n",
       "</div>"
      ],
      "text/plain": [
       "                             Title  Running time Release date Language  \\\n",
       "0  The Adventures of Ford Fairlane         102.0   1990-07-11  English   \n",
       "1             After Dark, My Sweet         114.0   1990-05-17  English   \n",
       "2                      Air America         113.0   1990-08-10  English   \n",
       "3                            Alice         106.0   1990-12-25  English   \n",
       "4                  Almost an Angel          95.0   1990-12-19  English   \n",
       "\n",
       "   Box office        Country      Budget  Based on   3d  action  ...  \\\n",
       "0  21400000.0  United States  20000000.0         1  0.0     1.0  ...   \n",
       "1   2700000.0  United States   6000000.0         1  0.0     0.0  ...   \n",
       "2  57700000.0  United States  32500000.0         1  0.0     0.0  ...   \n",
       "3   7331647.0  United States  12000000.0         0  0.0     0.0  ...   \n",
       "4   6939946.0  United States  25000000.0         0  0.0     0.0  ...   \n",
       "\n",
       "   de Passe Entertainment  di Bonaventura Pictures  eOne  iDeal Partners  \\\n",
       "0                     0.0                      0.0   0.0             0.0   \n",
       "1                     0.0                      0.0   0.0             0.0   \n",
       "2                     0.0                      0.0   0.0             0.0   \n",
       "3                     0.0                      0.0   0.0             0.0   \n",
       "4                     0.0                      0.0   0.0             0.0   \n",
       "\n",
       "   inc.  inc.Leeds / Ben-Ami Productions  nWave Pictures  uFilm  uFund  uMedia  \n",
       "0   0.0                              0.0             0.0    0.0    0.0     0.0  \n",
       "1   0.0                              0.0             0.0    0.0    0.0     0.0  \n",
       "2   0.0                              0.0             0.0    0.0    0.0     0.0  \n",
       "3   0.0                              0.0             0.0    0.0    0.0     0.0  \n",
       "4   0.0                              0.0             0.0    0.0    0.0     0.0  \n",
       "\n",
       "[5 rows x 32685 columns]"
      ]
     },
     "execution_count": 25,
     "metadata": {},
     "output_type": "execute_result"
    }
   ],
   "source": [
    "df_out = df.drop(columns=cols)\n",
    "df_out.head()"
   ]
  },
  {
   "cell_type": "code",
   "execution_count": 26,
   "metadata": {},
   "outputs": [
    {
     "data": {
      "text/plain": [
       "(5903, 32685)"
      ]
     },
     "execution_count": 26,
     "metadata": {},
     "output_type": "execute_result"
    }
   ],
   "source": [
    "df_out.shape"
   ]
  },
  {
   "cell_type": "markdown",
   "metadata": {},
   "source": [
    "## Data Exploration\n",
    "- going to seperate the into training and test data. I am only going to perform the data analysis training set to reduce date snooping bias\n",
    "\n",
    "### 1) Numeric Data \n",
    "- histograms \n",
    "- corrplots \n",
    "- pivot tables\n",
    "\n",
    "### 2) Categorical Data\n",
    "- bar plots \n",
    "- pivot tables "
   ]
  },
  {
   "cell_type": "code",
   "execution_count": 27,
   "metadata": {},
   "outputs": [],
   "source": [
    "import matplotlib.pyplot as plt \n",
    "import seaborn as sns"
   ]
  },
  {
   "cell_type": "code",
   "execution_count": 28,
   "metadata": {},
   "outputs": [],
   "source": [
    "def split_train_test(data, test_ratio):\n",
    "    shuffled_indices = np.random.permutation(len(data))\n",
    "    test_set_size = int(len(data) * test_ratio)\n",
    "    test_indices = shuffled_indices[:test_set_size]\n",
    "    train_indices = shuffled_indices[test_set_size:]\n",
    "    return data.iloc[train_indices], data.iloc[test_indices]\n",
    "train_df, test_df = split_train_test(df_out, 0.2)\n",
    "\n",
    "# oreiller machine learning book"
   ]
  },
  {
   "cell_type": "code",
   "execution_count": 29,
   "metadata": {},
   "outputs": [
    {
     "data": {
      "text/html": [
       "<div>\n",
       "<style scoped>\n",
       "    .dataframe tbody tr th:only-of-type {\n",
       "        vertical-align: middle;\n",
       "    }\n",
       "\n",
       "    .dataframe tbody tr th {\n",
       "        vertical-align: top;\n",
       "    }\n",
       "\n",
       "    .dataframe thead th {\n",
       "        text-align: right;\n",
       "    }\n",
       "</style>\n",
       "<table border=\"1\" class=\"dataframe\">\n",
       "  <thead>\n",
       "    <tr style=\"text-align: right;\">\n",
       "      <th></th>\n",
       "      <th>Running time</th>\n",
       "      <th>Box office</th>\n",
       "      <th>Budget</th>\n",
       "    </tr>\n",
       "  </thead>\n",
       "  <tbody>\n",
       "    <tr>\n",
       "      <th>count</th>\n",
       "      <td>4700.000000</td>\n",
       "      <td>4.664000e+03</td>\n",
       "      <td>3.832000e+03</td>\n",
       "    </tr>\n",
       "    <tr>\n",
       "      <th>mean</th>\n",
       "      <td>106.231915</td>\n",
       "      <td>9.321241e+07</td>\n",
       "      <td>3.872936e+07</td>\n",
       "    </tr>\n",
       "    <tr>\n",
       "      <th>std</th>\n",
       "      <td>17.481241</td>\n",
       "      <td>1.808649e+08</td>\n",
       "      <td>4.477247e+07</td>\n",
       "    </tr>\n",
       "    <tr>\n",
       "      <th>min</th>\n",
       "      <td>40.000000</td>\n",
       "      <td>1.900000e+02</td>\n",
       "      <td>0.000000e+00</td>\n",
       "    </tr>\n",
       "    <tr>\n",
       "      <th>25%</th>\n",
       "      <td>94.000000</td>\n",
       "      <td>5.596288e+06</td>\n",
       "      <td>1.100000e+07</td>\n",
       "    </tr>\n",
       "    <tr>\n",
       "      <th>50%</th>\n",
       "      <td>103.000000</td>\n",
       "      <td>2.800000e+07</td>\n",
       "      <td>2.400000e+07</td>\n",
       "    </tr>\n",
       "    <tr>\n",
       "      <th>75%</th>\n",
       "      <td>115.000000</td>\n",
       "      <td>9.742500e+07</td>\n",
       "      <td>4.912500e+07</td>\n",
       "    </tr>\n",
       "    <tr>\n",
       "      <th>max</th>\n",
       "      <td>257.000000</td>\n",
       "      <td>2.798000e+09</td>\n",
       "      <td>4.696000e+08</td>\n",
       "    </tr>\n",
       "  </tbody>\n",
       "</table>\n",
       "</div>"
      ],
      "text/plain": [
       "       Running time    Box office        Budget\n",
       "count   4700.000000  4.664000e+03  3.832000e+03\n",
       "mean     106.231915  9.321241e+07  3.872936e+07\n",
       "std       17.481241  1.808649e+08  4.477247e+07\n",
       "min       40.000000  1.900000e+02  0.000000e+00\n",
       "25%       94.000000  5.596288e+06  1.100000e+07\n",
       "50%      103.000000  2.800000e+07  2.400000e+07\n",
       "75%      115.000000  9.742500e+07  4.912500e+07\n",
       "max      257.000000  2.798000e+09  4.696000e+08"
      ]
     },
     "execution_count": 29,
     "metadata": {},
     "output_type": "execute_result"
    }
   ],
   "source": [
    "numeric_cols = train_df.select_dtypes(include='float').columns[:3]\n",
    "df_num = train_df[numeric_cols]\n",
    "df_num.describe()"
   ]
  },
  {
   "cell_type": "code",
   "execution_count": 30,
   "metadata": {},
   "outputs": [
    {
     "data": {
      "image/png": "[encoded data removed]",
      "text/plain": [
       "<Figure size 720x504 with 4 Axes>"
      ]
     },
     "metadata": {
      "needs_background": "light"
     },
     "output_type": "display_data"
    }
   ],
   "source": [
    "df_num.hist(bins=50, figsize=(10,7))\n",
    "plt.show()"
   ]
  },
  {
   "cell_type": "code",
   "execution_count": null,
   "metadata": {},
   "outputs": [],
   "source": []
  },
  {
   "cell_type": "code",
   "execution_count": null,
   "metadata": {},
   "outputs": [],
   "source": []
  }
 ],
 "metadata": {
  "kernelspec": {
   "display_name": "Python 3",
   "language": "python",
   "name": "python3"
  },
  "language_info": {
   "codemirror_mode": {
    "name": "ipython",
    "version": 3
   },
   "file_extension": ".py",
   "mimetype": "text/x-python",
   "name": "python",
   "nbconvert_exporter": "python",
   "pygments_lexer": "ipython3",
   "version": "3.8.5"
  }
 },
 "nbformat": 4,
 "nbformat_minor": 4
}

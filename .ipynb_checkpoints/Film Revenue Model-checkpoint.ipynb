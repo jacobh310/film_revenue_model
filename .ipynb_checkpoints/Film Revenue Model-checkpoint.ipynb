{
 "cells": [
  {
   "cell_type": "code",
   "execution_count": 1,
   "metadata": {},
   "outputs": [],
   "source": [
    "import numpy as np\n",
    "import pandas as pd \n",
    "from datetime import datetime\n",
    "from sklearn.preprocessing import MultiLabelBinarizer"
   ]
  },
  {
   "cell_type": "code",
   "execution_count": 2,
   "metadata": {},
   "outputs": [
    {
     "name": "stderr",
     "output_type": "stream",
     "text": [
      "C:\\Users\\jacob\\anaconda3\\lib\\site-packages\\IPython\\core\\interactiveshell.py:3146: DtypeWarning: Columns (36,48,68,69,71,72,75,78,82,100,107,108,109,110,111,112,113,114,115,116,117,118,119,120,121,122,123,124,125,126,127,128,129,130,131,132,134,135,136,137,138,139,140,141,145,146,147,148,149,150,151,155,158,159,165,166,167,168,169,170,171,172,173,175,176,177,178,179,180,181,182,183,184,185,186,187,188,194,195,196,200,201,202,204,205,206,207,208,209,210,211,216,217,218,219,220,221,222,223,224,225,226,227,228,229,230,231,232,233,234,235,236,237,238,239,240,241,242,243,244,245,246,247,248,249,250,251,252) have mixed types.Specify dtype option on import or set low_memory=False.\n",
      "  has_raised = await self.run_ast_nodes(code_ast.body, cell_name,\n"
     ]
    }
   ],
   "source": [
    "df = pd.read_csv('wiki_data.csv')\n",
    "df=df[df.columns[1:]]\n",
    "nan_values = df[df.columns[:26]].isna().sum().sort_values()\n",
    "columns_keeping = nan_values[nan_values<6000].index\n",
    "df = df[columns_keeping]\n",
    "df['Based on'] = df['Based on'].apply(lambda x: 0 if pd.isna(x) else 1)"
   ]
  },
  {
   "cell_type": "code",
   "execution_count": 3,
   "metadata": {},
   "outputs": [
    {
     "name": "stdout",
     "output_type": "stream",
     "text": [
      "Based on\n"
     ]
    }
   ],
   "source": [
    "for col in df.columns[1:]:\n",
    "    try:\n",
    "        df[col] = df[col].str[3:-3]\n",
    "    except:\n",
    "        print(col)\n",
    "        "
   ]
  },
  {
   "cell_type": "code",
   "execution_count": 4,
   "metadata": {},
   "outputs": [],
   "source": [
    "df['Running time'] = df['Running time'].str.extract(r'(\\d+)')\n",
    "df['Running time'] = pd.to_numeric(df['Running time'])\n",
    "\n",
    "## making all these columns into list becasue they have mulitple names and will make creating dummy variables for each\n",
    "## later in the cleaning process\n",
    "df['Directed by'] = df['Directed by'].str.split(',')\n",
    "df['Starring'] = df['Starring'].str.split(',')\n",
    "df['Produced by'] = df['Produced by'].str.split(',')\n",
    "df['Screenplay by'] = df['Screenplay by'].str.split(',')\n",
    "df['Edited by'] = df['Edited by'].str.split(',')\n",
    "df['Cinematography'] = df['Cinematography'].str.split(',')\n",
    "df['Written by'] = df['Written by'].str.split(',')\n",
    "df['Music by'] = df['Music by'].str.split(',')\n",
    "df['Productioncompanies '] = df['Productioncompanies '].str.split(',')\n",
    "df['Distributed by'] = df['Distributed by'].str.split(',')\n",
    "df['Productioncompany '] = df['Productioncompany '].str.split(',')"
   ]
  },
  {
   "cell_type": "code",
   "execution_count": 5,
   "metadata": {},
   "outputs": [],
   "source": [
    "df['Release date'] = df['Release date'].str.split('(') \n",
    "df['Release date length'] = df['Release date'].apply(lambda x:len(x) if type(x) == list else x)\n",
    "df['Release date'] =  df['Release date'][df['Release date length']!=10]"
   ]
  },
  {
   "cell_type": "code",
   "execution_count": 6,
   "metadata": {},
   "outputs": [],
   "source": [
    " def clean_release(row):\n",
    "        if type(row)==list:\n",
    "            if len(row)==1:\n",
    "                return row[0]\n",
    "            else:\n",
    "                return row[1][:-1]\n",
    "        else:\n",
    "            row\n",
    "            \n",
    "df['Release date']=df['Release date'].apply(clean_release).str.split(')').str[0]"
   ]
  },
  {
   "cell_type": "code",
   "execution_count": 7,
   "metadata": {},
   "outputs": [],
   "source": [
    "def fix_dates (row):\n",
    "    if pd.isna(row):\n",
    "        return row\n",
    "    else:\n",
    "        try : \n",
    "            return datetime.strptime(row, \"%Y-%m-%d\")\n",
    "        except:\n",
    "            try:\n",
    "                return datetime.strptime(row, \"%B %d, %Y\")\n",
    "            except:\n",
    "                return row\n",
    "    \n",
    "\n",
    "df['Release date'] = df['Release date'].apply(fix_dates)"
   ]
  },
  {
   "cell_type": "code",
   "execution_count": 8,
   "metadata": {},
   "outputs": [],
   "source": [
    "import re \n",
    "df = df[df['Box office'].str.contains('$', na=False, regex=False)]  # remove any non dollar currency\n",
    "df =df[~df['Box office'].str.contains('admission',na=False,regex=False)]#removes the 5 rows with admission in the box office col\n",
    "\n",
    "def clean_box(row):\n",
    "    box = row[1:]\n",
    "    box =box.replace('$','')\n",
    "    box = re.split(\" |\\(|\\[\", box)\n",
    "    box = box[0].split('\\\\')[0]\n",
    "    \n",
    "    if bool(re.match(r\".*million.*\", row)):\n",
    "        try: return float(box)*1000000\n",
    "        except: return np.nan\n",
    "    elif bool(re.match(r\".*billion.*\", row)):\n",
    "        try: return float(box)*1000000000\n",
    "        except: return np.nan  \n",
    "        \n",
    "    else: \n",
    "        try: return float(box.replace(',',''))\n",
    "        except: np.nan\n",
    "    \n",
    "    \n",
    "\n",
    "df['Box office'] = df['Box office'].apply(clean_box)"
   ]
  },
  {
   "cell_type": "code",
   "execution_count": 9,
   "metadata": {},
   "outputs": [],
   "source": [
    "df['million'] = df['Budget'].str.contains('millio',na=False,regex=False)\n",
    "df['Budget'] = df['Budget'].str[1:].apply(lambda x: re.split(' |\\[', str(x))).str[0].str.replace(',','').str.split('\\\\').str[0]\n"
   ]
  },
  {
   "cell_type": "code",
   "execution_count": 10,
   "metadata": {},
   "outputs": [],
   "source": [
    "def clean_budget(x):\n",
    "    if '–' in x:\n",
    "        try: return (float(x.replace(',','').split('–')[0])+float(x.replace(',','').split('–')[1]))/2 \n",
    "        except: return np.nan\n",
    "    else:\n",
    "        try: return float(x)\n",
    "        except: np.nan\n",
    "df['Budget'] = df['Budget'].apply(clean_budget)"
   ]
  },
  {
   "cell_type": "code",
   "execution_count": 11,
   "metadata": {},
   "outputs": [],
   "source": [
    "def million(x):\n",
    "    budget = x['Budget']\n",
    "    if x['million'] == True:\n",
    "        return budget*1000000\n",
    "    else:\n",
    "        return budget\n",
    "df['Budget'] = df.apply(million,axis=1)"
   ]
  },
  {
   "cell_type": "code",
   "execution_count": 12,
   "metadata": {},
   "outputs": [],
   "source": [
    "df = df.drop(columns=['Release date length','million'])"
   ]
  },
  {
   "cell_type": "code",
   "execution_count": 13,
   "metadata": {
    "scrolled": false
   },
   "outputs": [],
   "source": [
    "def clean_names(row):\n",
    "    row_list = []\n",
    "    if type(row) == list:\n",
    "        for word in row:\n",
    "            word = word.replace(\"'\",'')\n",
    "            word = word.replace('\"','')\n",
    "            word = word.strip()\n",
    "            if len(word) <40:\n",
    "                row_list.append(word)\n",
    "        return row_list\n",
    "    else: return np.nan\n",
    "    \n",
    "df['Starring'] = df['Starring'].apply(clean_names)\n",
    "df['Produced by'] = df['Produced by'].apply(clean_names)\n",
    "df['Edited by'] = df['Edited by'].apply(clean_names)\n",
    "df['Cinematography'] = df['Cinematography'].apply(clean_names)\n",
    "df['Directed by'] = df['Directed by'].apply(clean_names)\n",
    "df['Written by'] = df['Written by'].apply(clean_names)\n",
    "df['Productioncompanies '] = df['Productioncompanies '].apply(clean_names)\n",
    "df['Music by'] = df['Music by'].apply(clean_names)\n",
    "df['Screenplay by'] = df['Screenplay by'].apply(clean_names)\n",
    "df['Distributed by'] = df['Distributed by'].apply(clean_names)\n",
    "df['Productioncompany '] = df['Productioncompany '].apply(clean_names)"
   ]
  },
  {
   "cell_type": "code",
   "execution_count": 14,
   "metadata": {},
   "outputs": [],
   "source": [
    "# df['Productioncompany '][df['Productioncompany '].str.split(',').apply(lambda x: len(x) if type(x) == list else x)==3]"
   ]
  },
  {
   "cell_type": "code",
   "execution_count": 15,
   "metadata": {
    "scrolled": false
   },
   "outputs": [
    {
     "data": {
      "text/html": [
       "<div>\n",
       "<style scoped>\n",
       "    .dataframe tbody tr th:only-of-type {\n",
       "        vertical-align: middle;\n",
       "    }\n",
       "\n",
       "    .dataframe tbody tr th {\n",
       "        vertical-align: top;\n",
       "    }\n",
       "\n",
       "    .dataframe thead th {\n",
       "        text-align: right;\n",
       "    }\n",
       "</style>\n",
       "<table border=\"1\" class=\"dataframe\">\n",
       "  <thead>\n",
       "    <tr style=\"text-align: right;\">\n",
       "      <th></th>\n",
       "      <th>Title</th>\n",
       "      <th>Running time</th>\n",
       "      <th>Directed by</th>\n",
       "      <th>Starring</th>\n",
       "      <th>Release date</th>\n",
       "      <th>Produced by</th>\n",
       "      <th>Distributed by</th>\n",
       "      <th>Music by</th>\n",
       "      <th>Edited by</th>\n",
       "      <th>Cinematography</th>\n",
       "      <th>Language</th>\n",
       "      <th>Box office</th>\n",
       "      <th>Country</th>\n",
       "      <th>Budget</th>\n",
       "      <th>Written by</th>\n",
       "      <th>Productioncompanies</th>\n",
       "      <th>Screenplay by</th>\n",
       "      <th>Based on</th>\n",
       "      <th>Productioncompany</th>\n",
       "    </tr>\n",
       "  </thead>\n",
       "  <tbody>\n",
       "    <tr>\n",
       "      <th>0</th>\n",
       "      <td>The Adventures of Ford Fairlane</td>\n",
       "      <td>102.0</td>\n",
       "      <td>[Renny Harlin]</td>\n",
       "      <td>[Andrew Dice Clay, Wayne Newton, Priscilla Pre...</td>\n",
       "      <td>1990-07-11 00:00:00</td>\n",
       "      <td>[Steve Perry, Joel Silver]</td>\n",
       "      <td>[20th Century Fox]</td>\n",
       "      <td>[Yello]</td>\n",
       "      <td>[Michael Tronick]</td>\n",
       "      <td>[Oliver Wood]</td>\n",
       "      <td>English</td>\n",
       "      <td>21400000.0</td>\n",
       "      <td>United States</td>\n",
       "      <td>20000000.0</td>\n",
       "      <td>NaN</td>\n",
       "      <td>NaN</td>\n",
       "      <td>[David Arnott, James Cappe, Daniel Waters]</td>\n",
       "      <td>1</td>\n",
       "      <td>[Silver Pictures]</td>\n",
       "    </tr>\n",
       "    <tr>\n",
       "      <th>1</th>\n",
       "      <td>After Dark, My Sweet</td>\n",
       "      <td>114.0</td>\n",
       "      <td>[James Foley]</td>\n",
       "      <td>[Jason Patric, Rachel Ward, Bruce Dern, George...</td>\n",
       "      <td>1990-05-17 00:00:00</td>\n",
       "      <td>[Ric KidneyRobert Redlin]</td>\n",
       "      <td>[Avenue Pictures]</td>\n",
       "      <td>[Maurice Jarre]</td>\n",
       "      <td>[Howard E. Smith]</td>\n",
       "      <td>[Mark Plummer]</td>\n",
       "      <td>English</td>\n",
       "      <td>2700000.0</td>\n",
       "      <td>United States</td>\n",
       "      <td>6000000.0</td>\n",
       "      <td>NaN</td>\n",
       "      <td>NaN</td>\n",
       "      <td>[James FoleyRobert Redlin]</td>\n",
       "      <td>1</td>\n",
       "      <td>[Avenue Pictures]</td>\n",
       "    </tr>\n",
       "    <tr>\n",
       "      <th>2</th>\n",
       "      <td>Air America</td>\n",
       "      <td>113.0</td>\n",
       "      <td>[Roger Spottiswoode]</td>\n",
       "      <td>[Mel Gibson, Robert Downey Jr., Nancy Travis, ...</td>\n",
       "      <td>1990-08-10 00:00:00</td>\n",
       "      <td>[Daniel MelnickMario Kassar]</td>\n",
       "      <td>[TriStar Pictures]</td>\n",
       "      <td>[Charles Gross]</td>\n",
       "      <td>[John BloomLois Freeman-Fox]</td>\n",
       "      <td>[Roger Deakins]</td>\n",
       "      <td>English</td>\n",
       "      <td>57700000.0</td>\n",
       "      <td>United States</td>\n",
       "      <td>32500000.0</td>\n",
       "      <td>NaN</td>\n",
       "      <td>[Carolco PicturesIndieProd Company]</td>\n",
       "      <td>[John Eskow, Richard Rush]</td>\n",
       "      <td>1</td>\n",
       "      <td>NaN</td>\n",
       "    </tr>\n",
       "    <tr>\n",
       "      <th>3</th>\n",
       "      <td>Alice</td>\n",
       "      <td>106.0</td>\n",
       "      <td>[Woody Allen]</td>\n",
       "      <td>[Alec Baldwin, Blythe Danner, Judy Davis, Mia ...</td>\n",
       "      <td>1990-12-25 00:00:00</td>\n",
       "      <td>[Robert Greenhut]</td>\n",
       "      <td>[Orion Pictures]</td>\n",
       "      <td>NaN</td>\n",
       "      <td>[Susan E. Morse]</td>\n",
       "      <td>[Carlo Di Palma]</td>\n",
       "      <td>English</td>\n",
       "      <td>7331647.0</td>\n",
       "      <td>United States</td>\n",
       "      <td>12000000.0</td>\n",
       "      <td>[Woody Allen]</td>\n",
       "      <td>NaN</td>\n",
       "      <td>NaN</td>\n",
       "      <td>0</td>\n",
       "      <td>NaN</td>\n",
       "    </tr>\n",
       "    <tr>\n",
       "      <th>4</th>\n",
       "      <td>Almost an Angel</td>\n",
       "      <td>95.0</td>\n",
       "      <td>[John Cornell]</td>\n",
       "      <td>[Paul Hogan, Elias Koteas, Linda Kozlowski]</td>\n",
       "      <td>1990-12-19 00:00:00</td>\n",
       "      <td>[John Cornell]</td>\n",
       "      <td>[Paramount Pictures]</td>\n",
       "      <td>[Maurice Jarre]</td>\n",
       "      <td>[David Stiven]</td>\n",
       "      <td>[Russell Boyd]</td>\n",
       "      <td>English</td>\n",
       "      <td>6939946.0</td>\n",
       "      <td>United States</td>\n",
       "      <td>25000000.0</td>\n",
       "      <td>[Paul Hogan]</td>\n",
       "      <td>NaN</td>\n",
       "      <td>NaN</td>\n",
       "      <td>0</td>\n",
       "      <td>NaN</td>\n",
       "    </tr>\n",
       "  </tbody>\n",
       "</table>\n",
       "</div>"
      ],
      "text/plain": [
       "                             Title  Running time           Directed by  \\\n",
       "0  The Adventures of Ford Fairlane         102.0        [Renny Harlin]   \n",
       "1             After Dark, My Sweet         114.0         [James Foley]   \n",
       "2                      Air America         113.0  [Roger Spottiswoode]   \n",
       "3                            Alice         106.0         [Woody Allen]   \n",
       "4                  Almost an Angel          95.0        [John Cornell]   \n",
       "\n",
       "                                            Starring         Release date  \\\n",
       "0  [Andrew Dice Clay, Wayne Newton, Priscilla Pre...  1990-07-11 00:00:00   \n",
       "1  [Jason Patric, Rachel Ward, Bruce Dern, George...  1990-05-17 00:00:00   \n",
       "2  [Mel Gibson, Robert Downey Jr., Nancy Travis, ...  1990-08-10 00:00:00   \n",
       "3  [Alec Baldwin, Blythe Danner, Judy Davis, Mia ...  1990-12-25 00:00:00   \n",
       "4        [Paul Hogan, Elias Koteas, Linda Kozlowski]  1990-12-19 00:00:00   \n",
       "\n",
       "                    Produced by        Distributed by         Music by  \\\n",
       "0    [Steve Perry, Joel Silver]    [20th Century Fox]          [Yello]   \n",
       "1     [Ric KidneyRobert Redlin]     [Avenue Pictures]  [Maurice Jarre]   \n",
       "2  [Daniel MelnickMario Kassar]    [TriStar Pictures]  [Charles Gross]   \n",
       "3             [Robert Greenhut]      [Orion Pictures]              NaN   \n",
       "4                [John Cornell]  [Paramount Pictures]  [Maurice Jarre]   \n",
       "\n",
       "                      Edited by    Cinematography Language  Box office  \\\n",
       "0             [Michael Tronick]     [Oliver Wood]  English  21400000.0   \n",
       "1             [Howard E. Smith]    [Mark Plummer]  English   2700000.0   \n",
       "2  [John BloomLois Freeman-Fox]   [Roger Deakins]  English  57700000.0   \n",
       "3              [Susan E. Morse]  [Carlo Di Palma]  English   7331647.0   \n",
       "4                [David Stiven]    [Russell Boyd]  English   6939946.0   \n",
       "\n",
       "         Country      Budget     Written by  \\\n",
       "0  United States  20000000.0            NaN   \n",
       "1  United States   6000000.0            NaN   \n",
       "2  United States  32500000.0            NaN   \n",
       "3  United States  12000000.0  [Woody Allen]   \n",
       "4  United States  25000000.0   [Paul Hogan]   \n",
       "\n",
       "                  Productioncompanies   \\\n",
       "0                                  NaN   \n",
       "1                                  NaN   \n",
       "2  [Carolco PicturesIndieProd Company]   \n",
       "3                                  NaN   \n",
       "4                                  NaN   \n",
       "\n",
       "                                Screenplay by  Based on Productioncompany   \n",
       "0  [David Arnott, James Cappe, Daniel Waters]         1  [Silver Pictures]  \n",
       "1                  [James FoleyRobert Redlin]         1  [Avenue Pictures]  \n",
       "2                  [John Eskow, Richard Rush]         1                NaN  \n",
       "3                                         NaN         0                NaN  \n",
       "4                                         NaN         0                NaN  "
      ]
     },
     "execution_count": 15,
     "metadata": {},
     "output_type": "execute_result"
    }
   ],
   "source": [
    "df.head()"
   ]
  },
  {
   "cell_type": "code",
   "execution_count": 16,
   "metadata": {},
   "outputs": [],
   "source": [
    "cast = {}\n",
    "for i in df['Produced by']:\n",
    "    if type(i) == list:\n",
    "        for j in i:\n",
    "            if j not in cast:\n",
    "                cast[j] = 1\n",
    "            else:\n",
    "                cast[j] += 1"
   ]
  },
  {
   "cell_type": "code",
   "execution_count": 17,
   "metadata": {},
   "outputs": [
    {
     "data": {
      "text/html": [
       "<div>\n",
       "<style scoped>\n",
       "    .dataframe tbody tr th:only-of-type {\n",
       "        vertical-align: middle;\n",
       "    }\n",
       "\n",
       "    .dataframe tbody tr th {\n",
       "        vertical-align: top;\n",
       "    }\n",
       "\n",
       "    .dataframe thead th {\n",
       "        text-align: right;\n",
       "    }\n",
       "</style>\n",
       "<table border=\"1\" class=\"dataframe\">\n",
       "  <thead>\n",
       "    <tr style=\"text-align: right;\">\n",
       "      <th></th>\n",
       "      <th>0</th>\n",
       "    </tr>\n",
       "  </thead>\n",
       "  <tbody>\n",
       "    <tr>\n",
       "      <th>Scott Rudin</th>\n",
       "      <td>56</td>\n",
       "    </tr>\n",
       "    <tr>\n",
       "      <th>Brian Grazer</th>\n",
       "      <td>52</td>\n",
       "    </tr>\n",
       "    <tr>\n",
       "      <th>Neal H. Moritz</th>\n",
       "      <td>42</td>\n",
       "    </tr>\n",
       "    <tr>\n",
       "      <th>Joel Silver</th>\n",
       "      <td>41</td>\n",
       "    </tr>\n",
       "  </tbody>\n",
       "</table>\n",
       "</div>"
      ],
      "text/plain": [
       "                 0\n",
       "Scott Rudin     56\n",
       "Brian Grazer    52\n",
       "Neal H. Moritz  42\n",
       "Joel Silver     41"
      ]
     },
     "execution_count": 17,
     "metadata": {},
     "output_type": "execute_result"
    }
   ],
   "source": [
    "pd.DataFrame.from_dict(cast,orient='index').sort_values(by=0, ascending=False).head(4)"
   ]
  },
  {
   "cell_type": "code",
   "execution_count": 18,
   "metadata": {},
   "outputs": [],
   "source": [
    "# dummy_df = df.copy()\n",
    "# dummy_df = dummy_df.reset_index().drop(columns='index')\n",
    "\n",
    "# mlb = MultiLabelBinarizer()\n",
    "# starring_nan = dummy_df[dummy_df['Starring'].isna()]\n",
    "# dummy_df = dummy_df[~dummy_df['Starring'].isna()]\n",
    "\n",
    "# dummy_df = dummy_df.join(pd.DataFrame(mlb.fit_transform(dummy_df.pop('Starring')),\n",
    "#                           columns=mlb.classes_,\n",
    "#                           index=dummy_df.index))"
   ]
  },
  {
   "cell_type": "code",
   "execution_count": 19,
   "metadata": {},
   "outputs": [],
   "source": [
    "# dummy_df.head()"
   ]
  },
  {
   "cell_type": "code",
   "execution_count": null,
   "metadata": {},
   "outputs": [],
   "source": []
  }
 ],
 "metadata": {
  "kernelspec": {
   "display_name": "Python 3",
   "language": "python",
   "name": "python3"
  },
  "language_info": {
   "codemirror_mode": {
    "name": "ipython",
    "version": 3
   },
   "file_extension": ".py",
   "mimetype": "text/x-python",
   "name": "python",
   "nbconvert_exporter": "python",
   "pygments_lexer": "ipython3",
   "version": "3.8.5"
  }
 },
 "nbformat": 4,
 "nbformat_minor": 4
}

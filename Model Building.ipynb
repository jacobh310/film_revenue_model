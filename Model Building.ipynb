{
 "cells": [
  {
   "cell_type": "code",
   "execution_count": 1,
   "metadata": {},
   "outputs": [],
   "source": [
    "import numpy as np\n",
    "import pandas as pd \n",
    "import matplotlib.pyplot as plt \n",
    "import seaborn as sns\n"
   ]
  },
  {
   "cell_type": "code",
   "execution_count": 2,
   "metadata": {},
   "outputs": [],
   "source": [
    "df_out = pd.read_csv('cleaned_data_dummies.csv', index_col = 0)"
   ]
  },
  {
   "cell_type": "code",
   "execution_count": 3,
   "metadata": {},
   "outputs": [],
   "source": [
    "def split_train_test(data, test_ratio):\n",
    "    np.random.seed(0)\n",
    "    shuffled_indices = np.random.permutation(len(data))\n",
    "    test_set_size = int(len(data) * test_ratio)\n",
    "    test_indices = shuffled_indices[:test_set_size]\n",
    "    train_indices = shuffled_indices[test_set_size:]\n",
    "    return data.iloc[train_indices], data.iloc[test_indices]\n",
    "\n",
    "train_df, test_df = split_train_test(df_out, 0.2)\n",
    "train_df = train_df.drop(columns= 'Title')\n",
    "test_df = test_df.drop(columns= 'Title')\n",
    "\n",
    "# oreiller machine learning book"
   ]
  },
  {
   "cell_type": "markdown",
   "metadata": {},
   "source": [
    "## Model Baseline performance: Dropping all rows with null values and no outlier treatment"
   ]
  },
  {
   "cell_type": "code",
   "execution_count": 138,
   "metadata": {},
   "outputs": [],
   "source": [
    "from sklearn.preprocessing import MinMaxScaler, OneHotEncoder, PowerTransformer\n",
    "from sklearn.pipeline import make_pipeline, Pipeline\n",
    "from sklearn.compose import ColumnTransformer, make_column_transformer\n",
    "from sklearn.impute import SimpleImputer , KNNImputer\n",
    "from sklearn.linear_model import LinearRegression, Lasso, Ridge, SGDRegressor\n",
    "from sklearn.ensemble import RandomForestRegressor\n",
    "from xgboost import XGBRegressor\n",
    "from sklearn.model_selection import cross_val_score, GridSearchCV, RandomizedSearchCV\n",
    "from sklearn.preprocessing import MultiLabelBinarizer\n"
   ]
  },
  {
   "cell_type": "code",
   "execution_count": 6,
   "metadata": {},
   "outputs": [],
   "source": [
    "train_df_nona = train_df.dropna() \n",
    "train_df_nona = train_df_nona.reset_index().drop(columns='index')\n"
   ]
  },
  {
   "cell_type": "code",
   "execution_count": 7,
   "metadata": {},
   "outputs": [],
   "source": [
    "x_na = train_df_nona.drop(columns=['Box office','Release date','Day','Language','Country'])\n",
    "y_na = train_df_nona['Box office']\n",
    "\n",
    "columns_trans = make_column_transformer(\n",
    "    (OneHotEncoder(),['Month','Day of week']),\n",
    "    remainder='passthrough')\n"
   ]
  },
  {
   "cell_type": "code",
   "execution_count": 7,
   "metadata": {
    "scrolled": true
   },
   "outputs": [
    {
     "data": {
      "text/plain": [
       "array([0.55691298, 0.53895606, 0.56678776])"
      ]
     },
     "execution_count": 7,
     "metadata": {},
     "output_type": "execute_result"
    }
   ],
   "source": [
    "lr = LinearRegression()\n",
    "pipe = make_pipeline(columns_trans, lr)\n",
    "cross_val_score(pipe, x_na, y_na, cv=3)"
   ]
  },
  {
   "cell_type": "code",
   "execution_count": 8,
   "metadata": {},
   "outputs": [
    {
     "data": {
      "text/plain": [
       "array([0.59883948, 0.61202462, 0.56323045])"
      ]
     },
     "execution_count": 8,
     "metadata": {},
     "output_type": "execute_result"
    }
   ],
   "source": [
    "rf = RandomForestRegressor()\n",
    "pipe = make_pipeline(columns_trans, rf)\n",
    "cross_val_score(pipe, x_na, y_na, cv=3)"
   ]
  },
  {
   "cell_type": "code",
   "execution_count": 9,
   "metadata": {},
   "outputs": [
    {
     "data": {
      "text/plain": [
       "array([0.57456078, 0.54722915, 0.50012725])"
      ]
     },
     "execution_count": 9,
     "metadata": {},
     "output_type": "execute_result"
    }
   ],
   "source": [
    "xg = XGBRegressor()\n",
    "pipe = make_pipeline(columns_trans, xg)\n",
    "cross_val_score(pipe, x_na, y_na, cv=3)"
   ]
  },
  {
   "cell_type": "code",
   "execution_count": 11,
   "metadata": {},
   "outputs": [
    {
     "data": {
      "text/plain": [
       "array([ 0.32148232, -0.169304  ,  0.07330619])"
      ]
     },
     "execution_count": 11,
     "metadata": {},
     "output_type": "execute_result"
    }
   ],
   "source": [
    "lasso = Lasso()\n",
    "pipe = make_pipeline(columns_trans, lasso)\n",
    "cross_val_score(pipe, x_na, y_na, cv=3)"
   ]
  },
  {
   "cell_type": "code",
   "execution_count": 12,
   "metadata": {
    "scrolled": true
   },
   "outputs": [
    {
     "name": "stderr",
     "output_type": "stream",
     "text": [
      "c:\\users\\jacob\\appdata\\local\\programs\\python\\python38\\lib\\site-packages\\sklearn\\linear_model\\_ridge.py:190: UserWarning: Singular matrix in solving dual problem. Using least-squares solution instead.\n",
      "  warnings.warn(\"Singular matrix in solving dual problem. Using \"\n",
      "c:\\users\\jacob\\appdata\\local\\programs\\python\\python38\\lib\\site-packages\\sklearn\\linear_model\\_ridge.py:190: UserWarning: Singular matrix in solving dual problem. Using least-squares solution instead.\n",
      "  warnings.warn(\"Singular matrix in solving dual problem. Using \"\n",
      "c:\\users\\jacob\\appdata\\local\\programs\\python\\python38\\lib\\site-packages\\sklearn\\linear_model\\_ridge.py:190: UserWarning: Singular matrix in solving dual problem. Using least-squares solution instead.\n",
      "  warnings.warn(\"Singular matrix in solving dual problem. Using \"\n"
     ]
    },
    {
     "data": {
      "text/plain": [
       "array([0.5406905 , 0.57039602, 0.55856209])"
      ]
     },
     "execution_count": 12,
     "metadata": {},
     "output_type": "execute_result"
    }
   ],
   "source": [
    "ridge = Ridge()\n",
    "pipe = make_pipeline(columns_trans, ridge)\n",
    "cross_val_score(pipe, x_na, y_na, cv=3)"
   ]
  },
  {
   "cell_type": "markdown",
   "metadata": {},
   "source": [
    "## Model Baseline performance: Dropping all rows with null values and scaling and outlier treatment\n"
   ]
  },
  {
   "cell_type": "code",
   "execution_count": 22,
   "metadata": {
    "scrolled": true
   },
   "outputs": [],
   "source": [
    "power_transform = PowerTransformer().fit_transform(x_na[['Budget']])\n",
    "power_transform = pd.DataFrame(power_transform, columns=['Budget'])\n",
    "x_na = pd.concat([x_na.drop(columns=['Budget']), power_transform], axis =1)\n",
    "\n",
    "minmax = MinMaxScaler().fit_transform(x_na[['Year','Running time','Budget']])\n",
    "minmax = pd.DataFrame(minmax, columns=['Running time','Budget','Year'])\n",
    "x_na = pd.concat([x_na.drop(columns=['Running time','Budget','Year']),minmax], axis =1)\n",
    "\n",
    "columns_trans = make_column_transformer(\n",
    "    (OneHotEncoder(),['Month','Day of week']),\n",
    "    remainder='passthrough')"
   ]
  },
  {
   "cell_type": "code",
   "execution_count": 24,
   "metadata": {},
   "outputs": [
    {
     "data": {
      "text/plain": [
       "array([0.46243757, 0.46845347, 0.48657235])"
      ]
     },
     "execution_count": 24,
     "metadata": {},
     "output_type": "execute_result"
    }
   ],
   "source": [
    "lr = LinearRegression()\n",
    "pipe = make_pipeline(columns_trans, lr)\n",
    "cross_val_score(pipe, x_na, y_na, cv=3)"
   ]
  },
  {
   "cell_type": "code",
   "execution_count": 25,
   "metadata": {},
   "outputs": [
    {
     "data": {
      "text/plain": [
       "array([0.58866294, 0.5941524 , 0.56200962])"
      ]
     },
     "execution_count": 25,
     "metadata": {},
     "output_type": "execute_result"
    }
   ],
   "source": [
    "rf = RandomForestRegressor()\n",
    "pipe = make_pipeline(columns_trans, rf)\n",
    "cross_val_score(pipe, x_na, y_na, cv=3)"
   ]
  },
  {
   "cell_type": "code",
   "execution_count": 26,
   "metadata": {},
   "outputs": [
    {
     "data": {
      "text/plain": [
       "array([0.61006934, 0.52888637, 0.49706464])"
      ]
     },
     "execution_count": 26,
     "metadata": {},
     "output_type": "execute_result"
    }
   ],
   "source": [
    "xg = XGBRegressor()\n",
    "pipe = make_pipeline(columns_trans, xg)\n",
    "cross_val_score(pipe, x_na, y_na, cv=3)"
   ]
  },
  {
   "cell_type": "code",
   "execution_count": 27,
   "metadata": {},
   "outputs": [
    {
     "data": {
      "text/plain": [
       "array([0.4880342 , 0.50035674, 0.54144682])"
      ]
     },
     "execution_count": 27,
     "metadata": {},
     "output_type": "execute_result"
    }
   ],
   "source": [
    "ridge = Ridge()\n",
    "pipe = make_pipeline(columns_trans, ridge)\n",
    "cross_val_score(pipe, x_na, y_na, cv=3)"
   ]
  },
  {
   "cell_type": "markdown",
   "metadata": {},
   "source": [
    "## Model Baseline with imputation, scaling and outlier treatment\n"
   ]
  },
  {
   "cell_type": "code",
   "execution_count": 29,
   "metadata": {
    "scrolled": true
   },
   "outputs": [
    {
     "name": "stderr",
     "output_type": "stream",
     "text": [
      "<ipython-input-29-33f942f4b404>:2: SettingWithCopyWarning: \n",
      "A value is trying to be set on a copy of a slice from a DataFrame.\n",
      "Try using .loc[row_indexer,col_indexer] = value instead\n",
      "\n",
      "See the caveats in the documentation: https://pandas.pydata.org/pandas-docs/stable/user_guide/indexing.html#returning-a-view-versus-a-copy\n",
      "  train['Language'] = train['Language'].fillna('English')\n"
     ]
    }
   ],
   "source": [
    "train = train_df.dropna(subset=['Box office'])\n",
    "train['Language'] = train['Language'].fillna('English')\n",
    "train = train.reset_index().drop(columns='index')\n",
    "\n",
    "x = train.drop(columns=['Box office','Release date','Day','Language','Country'])\n",
    "\n",
    "y = train['Box office']\n",
    "\n"
   ]
  },
  {
   "cell_type": "code",
   "execution_count": 30,
   "metadata": {},
   "outputs": [],
   "source": [
    "knn_imputation = KNNImputer(n_neighbors=9).fit_transform(x[['Budget','Running time','Year','Month','Day of week','Based on']])\n",
    "knn_imputation = pd.DataFrame(knn_imputation, columns=['Budget','Running time','Year','Month','Day of week','Based on'])\n",
    "x = pd.concat([x.drop(columns=['Budget','Running time','Year','Month','Day of week','Based on']),knn_imputation], axis =1)\n",
    "\n",
    "power_transform = PowerTransformer().fit_transform(x[['Budget']])\n",
    "power_transform = pd.DataFrame(power_transform, columns=['Budget'])\n",
    "x = pd.concat([x.drop(columns=['Budget']), power_transform], axis =1)\n",
    "\n",
    "minmax = MinMaxScaler().fit_transform(x[['Running time','Budget','Year']])\n",
    "minmax = pd.DataFrame(minmax, columns=['Running time','Budget','Year'])\n",
    "x = pd.concat([x.drop(columns=['Running time','Budget','Year']),minmax], axis =1)"
   ]
  },
  {
   "cell_type": "code",
   "execution_count": 31,
   "metadata": {},
   "outputs": [],
   "source": [
    "columns_trans = make_column_transformer(\n",
    "    (OneHotEncoder(),['Month','Day of week']),\n",
    "    remainder='passthrough')"
   ]
  },
  {
   "cell_type": "code",
   "execution_count": 33,
   "metadata": {},
   "outputs": [
    {
     "data": {
      "text/plain": [
       "array([0.46909868, 0.46298569, 0.51456939])"
      ]
     },
     "execution_count": 33,
     "metadata": {},
     "output_type": "execute_result"
    }
   ],
   "source": [
    "lr = LinearRegression()\n",
    "pipe = make_pipeline(columns_trans, lr)\n",
    "cross_val_score(pipe, x, y, cv=3)"
   ]
  },
  {
   "cell_type": "code",
   "execution_count": 34,
   "metadata": {
    "scrolled": false
   },
   "outputs": [
    {
     "data": {
      "text/plain": [
       "array([0.61809626, 0.55052878, 0.60698998])"
      ]
     },
     "execution_count": 34,
     "metadata": {},
     "output_type": "execute_result"
    }
   ],
   "source": [
    "xg = XGBRegressor()\n",
    "pipe = make_pipeline(columns_trans, xg)\n",
    "cross_val_score(pipe, x, y, cv=3)"
   ]
  },
  {
   "cell_type": "code",
   "execution_count": 35,
   "metadata": {},
   "outputs": [
    {
     "data": {
      "text/plain": [
       "array([0.57852987, 0.58632336, 0.63773637])"
      ]
     },
     "execution_count": 35,
     "metadata": {},
     "output_type": "execute_result"
    }
   ],
   "source": [
    "## Best performing\n",
    "rf = RandomForestRegressor()\n",
    "pipe = make_pipeline(columns_trans, rf)\n",
    "cross_val_score(pipe, x, y, cv=3)"
   ]
  },
  {
   "cell_type": "code",
   "execution_count": 37,
   "metadata": {
    "scrolled": true
   },
   "outputs": [
    {
     "data": {
      "text/plain": [
       "array([0.4880342 , 0.50035674, 0.54144682])"
      ]
     },
     "execution_count": 37,
     "metadata": {},
     "output_type": "execute_result"
    }
   ],
   "source": [
    "ridge = Ridge()\n",
    "pipe = make_pipeline(columns_trans, ridge)\n",
    "cross_val_score(pipe, x_na, y_na, cv=3)"
   ]
  },
  {
   "cell_type": "markdown",
   "metadata": {},
   "source": [
    "## Model Baseline with imputation and no scaling and outlier treatment\n"
   ]
  },
  {
   "cell_type": "code",
   "execution_count": 38,
   "metadata": {},
   "outputs": [],
   "source": [
    "x = train.drop(columns=['Box office','Release date','Day','Language','Country'])\n",
    "y = train['Box office']"
   ]
  },
  {
   "cell_type": "code",
   "execution_count": 40,
   "metadata": {},
   "outputs": [],
   "source": [
    "knn_imputation = KNNImputer(n_neighbors=9).fit_transform(x[['Budget','Running time','Year','Month','Day of week','Based on']])\n",
    "knn_imputation = pd.DataFrame(knn_imputation, columns=['Budget','Running time','Year','Month','Day of week','Based on'])\n",
    "x = pd.concat([x.drop(columns=['Budget','Running time','Year','Month','Day of week','Based on']),knn_imputation], axis =1)\n",
    "\n",
    "columns_trans = make_column_transformer(\n",
    "    (OneHotEncoder(),['Month','Day of week']),\n",
    "    remainder='passthrough')"
   ]
  },
  {
   "cell_type": "code",
   "execution_count": 43,
   "metadata": {},
   "outputs": [
    {
     "data": {
      "text/plain": [
       "array([0.5302604 , 0.52046759, 0.56292754])"
      ]
     },
     "execution_count": 43,
     "metadata": {},
     "output_type": "execute_result"
    }
   ],
   "source": [
    "lr = LinearRegression()\n",
    "pipe = make_pipeline(columns_trans, lr)\n",
    "cross_val_score(pipe, x, y, cv=3)"
   ]
  },
  {
   "cell_type": "code",
   "execution_count": 44,
   "metadata": {},
   "outputs": [
    {
     "data": {
      "text/plain": [
       "array([0.61768371, 0.55155804, 0.60736764])"
      ]
     },
     "execution_count": 44,
     "metadata": {},
     "output_type": "execute_result"
    }
   ],
   "source": [
    "xg = XGBRegressor()\n",
    "pipe = make_pipeline(columns_trans, xg)\n",
    "cross_val_score(pipe, x, y, cv=3)"
   ]
  },
  {
   "cell_type": "code",
   "execution_count": 45,
   "metadata": {},
   "outputs": [
    {
     "data": {
      "text/plain": [
       "array([0.57695237, 0.57064011, 0.62712534])"
      ]
     },
     "execution_count": 45,
     "metadata": {},
     "output_type": "execute_result"
    }
   ],
   "source": [
    "rf = RandomForestRegressor()\n",
    "pipe = make_pipeline(columns_trans, rf)\n",
    "cross_val_score(pipe, x, y, cv=3)"
   ]
  },
  {
   "cell_type": "code",
   "execution_count": 46,
   "metadata": {},
   "outputs": [
    {
     "data": {
      "text/plain": [
       "array([0.4880342 , 0.50035674, 0.54144682])"
      ]
     },
     "execution_count": 46,
     "metadata": {},
     "output_type": "execute_result"
    }
   ],
   "source": [
    "ridge = Ridge()\n",
    "pipe = make_pipeline(columns_trans, ridge)\n",
    "cross_val_score(pipe, x, y, cv=3)"
   ]
  },
  {
   "cell_type": "code",
   "execution_count": null,
   "metadata": {},
   "outputs": [],
   "source": [
    "### XGB \n",
    "### knn imput  n = 9 array([0.61771076, 0.55050346, 0.6067077 ])\n",
    "### knn impute n = 7 array([0.61537241, 0.55510262, 0.58953028])\n",
    "### knn impute n = 5 array[0.596       0.5583        0.57386]\n",
    "### simple mean     array([0.62578365, 0.49941513, 0.60900925])"
   ]
  },
  {
   "cell_type": "markdown",
   "metadata": {},
   "source": [
    "# Final Model\n",
    "---\n",
    "- I did a Gridsearch with a handful of different hyper parameters and after a day and a half, my computer was still not able to run all the different folds and hyper paramter combinations. The size of the dataframe (4510, 32711) and the lack of processing power and RAM made the testing process take a long time \n",
    "- Having said that, I am selecting the random forest regrossor and xgb because they performed the best in the cross validation phase. I am also setting the max amount of trees to 6 to speed up processing time and to prevent over fitting"
   ]
  },
  {
   "cell_type": "markdown",
   "metadata": {},
   "source": [
    "# Final test "
   ]
  },
  {
   "cell_type": "code",
   "execution_count": 20,
   "metadata": {},
   "outputs": [
    {
     "name": "stderr",
     "output_type": "stream",
     "text": [
      "<ipython-input-20-01873ef9f997>:2: SettingWithCopyWarning: \n",
      "A value is trying to be set on a copy of a slice from a DataFrame.\n",
      "Try using .loc[row_indexer,col_indexer] = value instead\n",
      "\n",
      "See the caveats in the documentation: https://pandas.pydata.org/pandas-docs/stable/user_guide/indexing.html#returning-a-view-versus-a-copy\n",
      "  test['Language'] = test['Language'].fillna('English')\n"
     ]
    }
   ],
   "source": [
    "test = test_df.dropna(subset=['Box office'])\n",
    "test['Language'] = test['Language'].fillna('English')\n",
    "test = test.reset_index().drop(columns='index')\n",
    "\n",
    "x_test = test.drop(columns=['Box office','Release date','Day','Language','Country'])\n",
    "y_test = test['Box office']\n"
   ]
  },
  {
   "cell_type": "code",
   "execution_count": 7,
   "metadata": {},
   "outputs": [],
   "source": [
    "knn_imputation = KNNImputer(n_neighbors=9).fit_transform(x_test[['Budget','Running time','Year','Month','Day of week','Based on']])\n",
    "knn_imputation = pd.DataFrame(knn_imputation, columns=['Budget','Running time','Year','Month','Day of week','Based on'])\n",
    "x_test = pd.concat([x_test.drop(columns=['Budget','Running time','Year','Month','Day of week','Based on']),knn_imputation], axis =1)\n",
    "\n",
    "power_transform = PowerTransformer().fit_transform(x_test[['Budget']])\n",
    "power_transform = pd.DataFrame(power_transform, columns=['Budget'])\n",
    "x_test = pd.concat([x_test.drop(columns=['Budget']), power_transform], axis =1)\n",
    "\n",
    "minmax = MinMaxScaler().fit_transform(x_test[['Running time','Budget','Year']])\n",
    "minmax = pd.DataFrame(minmax, columns=['Running time','Budget','Year'])\n",
    "x_test = pd.concat([x_test.drop(columns=['Running time','Budget','Year']),minmax], axis =1)"
   ]
  },
  {
   "cell_type": "code",
   "execution_count": 26,
   "metadata": {},
   "outputs": [],
   "source": [
    "columns_trans = make_column_transformer(\n",
    "    (OneHotEncoder(),['Month','Day of week']),\n",
    "    remainder='passthrough')\n",
    "\n",
    "x_test_scaled = columns_trans.fit_transform(x_test)"
   ]
  },
  {
   "cell_type": "code",
   "execution_count": 33,
   "metadata": {},
   "outputs": [],
   "source": [
    "rf = RandomForestRegressor(n_jobs=-1, max_depth=6)\n",
    "rf.fit(x_scaled, y)\n",
    "score = rf.score(x_test_scaled, y_test)"
   ]
  },
  {
   "cell_type": "code",
   "execution_count": 34,
   "metadata": {},
   "outputs": [
    {
     "data": {
      "text/plain": [
       "0.5603035064081044"
      ]
     },
     "execution_count": 34,
     "metadata": {},
     "output_type": "execute_result"
    }
   ],
   "source": [
    "score"
   ]
  },
  {
   "cell_type": "code",
   "execution_count": 35,
   "metadata": {},
   "outputs": [],
   "source": [
    "xgb = XGBRegressor(n_jobs=-1, max_depth=6)\n",
    "xgb.fit(x_scaled, y)\n",
    "score = xgb.score(x_test_scaled, y_test)"
   ]
  },
  {
   "cell_type": "code",
   "execution_count": 36,
   "metadata": {},
   "outputs": [
    {
     "data": {
      "text/plain": [
       "0.49846186942774295"
      ]
     },
     "execution_count": 36,
     "metadata": {},
     "output_type": "execute_result"
    }
   ],
   "source": [
    "score"
   ]
  },
  {
   "cell_type": "markdown",
   "metadata": {},
   "source": [
    "# Saving our Model\n",
    "--- \n",
    "I will be training the random forest regressor on all of the data and then saving the model to use on the streamlit web app"
   ]
  },
  {
   "cell_type": "code",
   "execution_count": 5,
   "metadata": {},
   "outputs": [
    {
     "name": "stderr",
     "output_type": "stream",
     "text": [
      "<ipython-input-5-a6a551160770>:2: SettingWithCopyWarning: \n",
      "A value is trying to be set on a copy of a slice from a DataFrame.\n",
      "Try using .loc[row_indexer,col_indexer] = value instead\n",
      "\n",
      "See the caveats in the documentation: https://pandas.pydata.org/pandas-docs/stable/user_guide/indexing.html#returning-a-view-versus-a-copy\n",
      "  final['Language'] = final['Language'].fillna('English')\n"
     ]
    }
   ],
   "source": [
    "final = df_out.dropna(subset=['Box office'])\n",
    "final['Language'] = final['Language'].fillna('English')\n",
    "final = final.reset_index().drop(columns='index')\n",
    "\n",
    "x = final.drop(columns=['Box office','Release date','Day','Language','Country','Title'])\n",
    "x_title = final.drop(columns=['Release date','Day','Language','Country',])\n",
    "y = final['Box office']\n"
   ]
  },
  {
   "cell_type": "code",
   "execution_count": 6,
   "metadata": {},
   "outputs": [],
   "source": [
    "knn_imputation = KNNImputer(n_neighbors=9).fit_transform(x[['Budget','Running time','Year','Month','Day of week','Based on']])\n",
    "knn_imputation = pd.DataFrame(knn_imputation, columns=['Budget','Running time','Year','Month','Day of week','Based on'])\n",
    "x = pd.concat([x.drop(columns=['Budget','Running time','Year','Month','Day of week','Based on']),knn_imputation], axis =1)\n",
    "\n",
    "power_transform = PowerTransformer().fit_transform(x[['Budget']])\n",
    "power_transform = pd.DataFrame(power_transform, columns=['Budget'])\n",
    "x = pd.concat([x.drop(columns=['Budget']), power_transform], axis =1)\n",
    "\n",
    "minmax = MinMaxScaler().fit_transform(x[['Running time','Budget','Year']])\n",
    "minmax = pd.DataFrame(minmax, columns=['Running time','Budget','Year'])\n",
    "x = pd.concat([x.drop(columns=['Running time','Budget','Year']),minmax], axis =1)\n"
   ]
  },
  {
   "cell_type": "code",
   "execution_count": 7,
   "metadata": {},
   "outputs": [],
   "source": [
    "columns_trans = make_column_transformer(\n",
    "    (OneHotEncoder(),['Month','Day of week']),\n",
    "    remainder='passthrough')"
   ]
  },
  {
   "cell_type": "code",
   "execution_count": 8,
   "metadata": {},
   "outputs": [],
   "source": [
    "# x_scaled_df = pd.get_dummies(x_title,columns=['Month','Day of week'])"
   ]
  },
  {
   "cell_type": "code",
   "execution_count": 9,
   "metadata": {},
   "outputs": [],
   "source": [
    "x_scaled = columns_trans.fit_transform(x)"
   ]
  },
  {
   "cell_type": "code",
   "execution_count": 10,
   "metadata": {
    "scrolled": false
   },
   "outputs": [
    {
     "data": {
      "text/plain": [
       "RandomForestRegressor(max_depth=6, n_jobs=-1)"
      ]
     },
     "execution_count": 10,
     "metadata": {},
     "output_type": "execute_result"
    }
   ],
   "source": [
    "rf = RandomForestRegressor(n_jobs=-1, max_depth=6)\n",
    "rf.fit(x_scaled,y)"
   ]
  },
  {
   "cell_type": "code",
   "execution_count": 21,
   "metadata": {},
   "outputs": [],
   "source": [
    "import pickle \n",
    "with open('final_film_model','wb') as f:\n",
    "    pickle.dump(rf, f)"
   ]
  },
  {
   "cell_type": "markdown",
   "metadata": {},
   "source": [
    "## Dropping all Null values Model"
   ]
  },
  {
   "cell_type": "code",
   "execution_count": 50,
   "metadata": {},
   "outputs": [],
   "source": [
    "final_na = df_out.dropna()\n",
    "final_na = final_na.reset_index().drop(columns='index')\n",
    "\n",
    "x_na = final_na.drop(columns=['Box office','Release date','Day','Language','Country','Title'])\n",
    "y_na = final_na['Box office']"
   ]
  },
  {
   "cell_type": "code",
   "execution_count": 51,
   "metadata": {},
   "outputs": [],
   "source": [
    "x_na_dum = pd.get_dummies(data = x_na, columns = ['Month','Day of week'])"
   ]
  },
  {
   "cell_type": "code",
   "execution_count": 52,
   "metadata": {},
   "outputs": [
    {
     "data": {
      "text/plain": [
       "RandomForestRegressor(max_depth=6, n_jobs=-1)"
      ]
     },
     "execution_count": 52,
     "metadata": {},
     "output_type": "execute_result"
    }
   ],
   "source": [
    "rf = RandomForestRegressor(n_jobs=-1, max_depth=6)\n",
    "rf.fit(x_na_dum,y_na)"
   ]
  },
  {
   "cell_type": "code",
   "execution_count": 53,
   "metadata": {},
   "outputs": [],
   "source": [
    "with open('no_na_model','wb') as file:\n",
    "    pickle.dump(rf,file)"
   ]
  },
  {
   "cell_type": "markdown",
   "metadata": {},
   "source": [
    "### Saving csv file for web app use "
   ]
  },
  {
   "cell_type": "code",
   "execution_count": 32,
   "metadata": {},
   "outputs": [],
   "source": [
    "top_100 = final[['Title','Box office']].sort_values(by='Box office',ascending=False)[:100]['Title']"
   ]
  },
  {
   "cell_type": "code",
   "execution_count": 72,
   "metadata": {},
   "outputs": [],
   "source": [
    "top_100.to_csv('top_films_index.csv',index=False)"
   ]
  },
  {
   "cell_type": "code",
   "execution_count": 57,
   "metadata": {},
   "outputs": [],
   "source": [
    "pd.DataFrame(x_scaled[top_100.index,:], index=top_100.index).to_csv('top_films_scaled.csv')  "
   ]
  },
  {
   "cell_type": "code",
   "execution_count": null,
   "metadata": {},
   "outputs": [],
   "source": []
  }
 ],
 "metadata": {
  "kernelspec": {
   "display_name": "Python 3",
   "language": "python",
   "name": "python3"
  },
  "language_info": {
   "codemirror_mode": {
    "name": "ipython",
    "version": 3
   },
   "file_extension": ".py",
   "mimetype": "text/x-python",
   "name": "python",
   "nbconvert_exporter": "python",
   "pygments_lexer": "ipython3",
   "version": "3.8.5"
  }
 },
 "nbformat": 4,
 "nbformat_minor": 4
}
